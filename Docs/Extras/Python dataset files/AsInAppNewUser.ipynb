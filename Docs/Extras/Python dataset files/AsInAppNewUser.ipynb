{
 "cells": [
  {
   "cell_type": "code",
   "execution_count": 1,
   "id": "5aaeac36",
   "metadata": {},
   "outputs": [],
   "source": [
    "import numpy as np\n",
    "import pandas as pd\n",
    "\n",
    "from scipy.sparse import csr_matrix\n",
    "from sklearn.neighbors import NearestNeighbors\n",
    "\n",
    "from pprint import pprint\n",
    "\n",
    "from joblib import Parallel, delayed\n",
    "import joblib"
   ]
  },
  {
   "cell_type": "code",
   "execution_count": 2,
   "id": "1de0ea06",
   "metadata": {},
   "outputs": [],
   "source": [
    "refined_dataset = pd.read_csv('IMDbRefined2.csv')\n",
    "\n",
    "knn_model = joblib.load('IMDbModel.h5')"
   ]
  },
  {
   "cell_type": "code",
   "execution_count": 3,
   "id": "7f522312",
   "metadata": {},
   "outputs": [
    {
     "data": {
      "text/html": [
       "<div>\n",
       "<style scoped>\n",
       "    .dataframe tbody tr th:only-of-type {\n",
       "        vertical-align: middle;\n",
       "    }\n",
       "\n",
       "    .dataframe tbody tr th {\n",
       "        vertical-align: top;\n",
       "    }\n",
       "\n",
       "    .dataframe thead th {\n",
       "        text-align: right;\n",
       "    }\n",
       "</style>\n",
       "<table border=\"1\" class=\"dataframe\">\n",
       "  <thead>\n",
       "    <tr style=\"text-align: right;\">\n",
       "      <th></th>\n",
       "      <th>Unnamed: 0</th>\n",
       "      <th>titleID</th>\n",
       "      <th>userID</th>\n",
       "      <th>primaryTitle</th>\n",
       "      <th>rating</th>\n",
       "    </tr>\n",
       "  </thead>\n",
       "  <tbody>\n",
       "    <tr>\n",
       "      <th>154288</th>\n",
       "      <td>154288</td>\n",
       "      <td>tt8946378</td>\n",
       "      <td>ur99877336</td>\n",
       "      <td>Knives Out</td>\n",
       "      <td>8.0</td>\n",
       "    </tr>\n",
       "    <tr>\n",
       "      <th>154289</th>\n",
       "      <td>154289</td>\n",
       "      <td>tt8946378</td>\n",
       "      <td>ur99907711</td>\n",
       "      <td>Knives Out</td>\n",
       "      <td>5.0</td>\n",
       "    </tr>\n",
       "  </tbody>\n",
       "</table>\n",
       "</div>"
      ],
      "text/plain": [
       "        Unnamed: 0    titleID      userID primaryTitle  rating\n",
       "154288      154288  tt8946378  ur99877336   Knives Out     8.0\n",
       "154289      154289  tt8946378  ur99907711   Knives Out     5.0"
      ]
     },
     "execution_count": 3,
     "metadata": {},
     "output_type": "execute_result"
    }
   ],
   "source": [
    "refined_dataset.tail(2)"
   ]
  },
  {
   "cell_type": "code",
   "execution_count": 4,
   "id": "400e67bd",
   "metadata": {},
   "outputs": [],
   "source": [
    "refined_dataset = refined_dataset.drop('Unnamed: 0', axis=1)"
   ]
  },
  {
   "cell_type": "code",
   "execution_count": 5,
   "id": "5be77f46",
   "metadata": {},
   "outputs": [],
   "source": [
    "newTitleID = \"tt0099785\"    \n",
    "newUserID = \"641c87d06a97e629837fc079\"\n",
    "newPrimaryTitle = \"Home Alone\"\n",
    "newRating = \"8.0\"\n",
    "row = [newTitleID, newUserID, newPrimaryTitle, newRating]"
   ]
  },
  {
   "cell_type": "code",
   "execution_count": 6,
   "id": "6bff4075",
   "metadata": {},
   "outputs": [],
   "source": [
    "refined_dataset.loc[len(refined_dataset)] = row"
   ]
  },
  {
   "cell_type": "code",
   "execution_count": 7,
   "id": "d15e1cdc",
   "metadata": {},
   "outputs": [],
   "source": [
    "movieUser_df = refined_dataset.pivot_table(\n",
    "    index='userID',\n",
    "     columns='titleID',\n",
    "      ## Replacing all movies users haven't rated with a rating of 0\n",
    "      values='rating').fillna(0)"
   ]
  },
  {
   "cell_type": "code",
   "execution_count": 8,
   "id": "1bc7bd88",
   "metadata": {},
   "outputs": [],
   "source": [
    "movie_list = movieUser_df.columns\n",
    "movieUser_scipy_df = csr_matrix(movieUser_df.values)"
   ]
  },
  {
   "cell_type": "code",
   "execution_count": 9,
   "id": "e0f7d94a",
   "metadata": {},
   "outputs": [
    {
     "data": {
      "text/plain": [
       "NearestNeighbors(algorithm='brute', metric='cosine')"
      ]
     },
     "execution_count": 9,
     "metadata": {},
     "output_type": "execute_result"
    }
   ],
   "source": [
    "knn_model.fit(movieUser_scipy_df)"
   ]
  },
  {
   "cell_type": "code",
   "execution_count": 10,
   "id": "f9756cd2",
   "metadata": {},
   "outputs": [],
   "source": [
    "simUsers = []\n",
    "userDistances = []\n",
    "highestMovies = []\n",
    "recommendedMovies = []"
   ]
  },
  {
   "cell_type": "code",
   "execution_count": 11,
   "id": "f698efe8",
   "metadata": {},
   "outputs": [],
   "source": [
    "def similar_users(user, n = 5):\n",
    "    knn_input = np.asarray([movieUser_df.values[user-1]])\n",
    "    distances, indices = knn_model.kneighbors(knn_input, n_neighbors=n+1)\n",
    "        \n",
    "    for i in range(1,len(distances[0])):\n",
    "        simUsers.append(indices[0][i]+1)\n",
    "        userDistances.append(distances[0][i])\n",
    "    return indices.flatten()[1:] + 1, distances.flatten()[1:]"
   ]
  },
  {
   "cell_type": "code",
   "execution_count": 12,
   "id": "c7ddd6bd",
   "metadata": {},
   "outputs": [],
   "source": [
    "def recommend_movies(n):\n",
    "    n = min(len(mean_ratings_list),n)\n",
    "    recommendedMovies.append(list(movie_list[np.argsort(mean_ratings_list)[::-1][:n]]))\n",
    "    return recommendedMovies"
   ]
  },
  {
   "cell_type": "code",
   "execution_count": 13,
   "id": "3ba1362c",
   "metadata": {},
   "outputs": [],
   "source": [
    "target_user_id = \"641c87d06a97e629837fc079\"\n",
    "target_user = np.where(movieUser_df.index == target_user_id)[0][0]\n",
    "no_of_highest = 5\n",
    "no_of_similar_users = 5\n",
    "no_of_movies = 5"
   ]
  },
  {
   "cell_type": "code",
   "execution_count": 14,
   "id": "533e8cb0",
   "metadata": {
    "scrolled": true
   },
   "outputs": [
    {
     "data": {
      "text/html": [
       "<div>\n",
       "<style scoped>\n",
       "    .dataframe tbody tr th:only-of-type {\n",
       "        vertical-align: middle;\n",
       "    }\n",
       "\n",
       "    .dataframe tbody tr th {\n",
       "        vertical-align: top;\n",
       "    }\n",
       "\n",
       "    .dataframe thead th {\n",
       "        text-align: right;\n",
       "    }\n",
       "</style>\n",
       "<table border=\"1\" class=\"dataframe\">\n",
       "  <thead>\n",
       "    <tr style=\"text-align: right;\">\n",
       "      <th>titleID</th>\n",
       "      <th>tt0034583</th>\n",
       "      <th>tt0050083</th>\n",
       "      <th>tt0054215</th>\n",
       "      <th>tt0060196</th>\n",
       "      <th>tt0062622</th>\n",
       "      <th>tt0066921</th>\n",
       "      <th>tt0068646</th>\n",
       "      <th>tt0071562</th>\n",
       "      <th>tt0071853</th>\n",
       "      <th>tt0073195</th>\n",
       "      <th>...</th>\n",
       "      <th>tt5463162</th>\n",
       "      <th>tt6320628</th>\n",
       "      <th>tt6644200</th>\n",
       "      <th>tt6723592</th>\n",
       "      <th>tt6751668</th>\n",
       "      <th>tt6966692</th>\n",
       "      <th>tt7131622</th>\n",
       "      <th>tt7286456</th>\n",
       "      <th>tt8579674</th>\n",
       "      <th>tt8946378</th>\n",
       "    </tr>\n",
       "    <tr>\n",
       "      <th>userID</th>\n",
       "      <th></th>\n",
       "      <th></th>\n",
       "      <th></th>\n",
       "      <th></th>\n",
       "      <th></th>\n",
       "      <th></th>\n",
       "      <th></th>\n",
       "      <th></th>\n",
       "      <th></th>\n",
       "      <th></th>\n",
       "      <th></th>\n",
       "      <th></th>\n",
       "      <th></th>\n",
       "      <th></th>\n",
       "      <th></th>\n",
       "      <th></th>\n",
       "      <th></th>\n",
       "      <th></th>\n",
       "      <th></th>\n",
       "      <th></th>\n",
       "      <th></th>\n",
       "    </tr>\n",
       "  </thead>\n",
       "  <tbody>\n",
       "    <tr>\n",
       "      <th>641c87d06a97e629837fc079</th>\n",
       "      <td>0.0</td>\n",
       "      <td>0.0</td>\n",
       "      <td>0.0</td>\n",
       "      <td>0.0</td>\n",
       "      <td>0.0</td>\n",
       "      <td>0.0</td>\n",
       "      <td>0.0</td>\n",
       "      <td>0.0</td>\n",
       "      <td>0.0</td>\n",
       "      <td>0.0</td>\n",
       "      <td>...</td>\n",
       "      <td>0.0</td>\n",
       "      <td>0.0</td>\n",
       "      <td>0.0</td>\n",
       "      <td>0.0</td>\n",
       "      <td>0.0</td>\n",
       "      <td>0.0</td>\n",
       "      <td>0.0</td>\n",
       "      <td>0.0</td>\n",
       "      <td>0.0</td>\n",
       "      <td>0.0</td>\n",
       "    </tr>\n",
       "    <tr>\n",
       "      <th>ur0000011</th>\n",
       "      <td>0.0</td>\n",
       "      <td>0.0</td>\n",
       "      <td>0.0</td>\n",
       "      <td>0.0</td>\n",
       "      <td>0.0</td>\n",
       "      <td>0.0</td>\n",
       "      <td>0.0</td>\n",
       "      <td>0.0</td>\n",
       "      <td>0.0</td>\n",
       "      <td>0.0</td>\n",
       "      <td>...</td>\n",
       "      <td>0.0</td>\n",
       "      <td>0.0</td>\n",
       "      <td>0.0</td>\n",
       "      <td>0.0</td>\n",
       "      <td>0.0</td>\n",
       "      <td>0.0</td>\n",
       "      <td>0.0</td>\n",
       "      <td>0.0</td>\n",
       "      <td>0.0</td>\n",
       "      <td>0.0</td>\n",
       "    </tr>\n",
       "    <tr>\n",
       "      <th>ur0000039</th>\n",
       "      <td>0.0</td>\n",
       "      <td>0.0</td>\n",
       "      <td>0.0</td>\n",
       "      <td>0.0</td>\n",
       "      <td>0.0</td>\n",
       "      <td>0.0</td>\n",
       "      <td>0.0</td>\n",
       "      <td>0.0</td>\n",
       "      <td>0.0</td>\n",
       "      <td>0.0</td>\n",
       "      <td>...</td>\n",
       "      <td>0.0</td>\n",
       "      <td>0.0</td>\n",
       "      <td>0.0</td>\n",
       "      <td>0.0</td>\n",
       "      <td>0.0</td>\n",
       "      <td>0.0</td>\n",
       "      <td>0.0</td>\n",
       "      <td>0.0</td>\n",
       "      <td>0.0</td>\n",
       "      <td>7.0</td>\n",
       "    </tr>\n",
       "    <tr>\n",
       "      <th>ur0000066</th>\n",
       "      <td>0.0</td>\n",
       "      <td>0.0</td>\n",
       "      <td>0.0</td>\n",
       "      <td>0.0</td>\n",
       "      <td>0.0</td>\n",
       "      <td>0.0</td>\n",
       "      <td>0.0</td>\n",
       "      <td>0.0</td>\n",
       "      <td>0.0</td>\n",
       "      <td>0.0</td>\n",
       "      <td>...</td>\n",
       "      <td>0.0</td>\n",
       "      <td>0.0</td>\n",
       "      <td>0.0</td>\n",
       "      <td>0.0</td>\n",
       "      <td>0.0</td>\n",
       "      <td>0.0</td>\n",
       "      <td>0.0</td>\n",
       "      <td>0.0</td>\n",
       "      <td>0.0</td>\n",
       "      <td>0.0</td>\n",
       "    </tr>\n",
       "    <tr>\n",
       "      <th>ur0000157</th>\n",
       "      <td>0.0</td>\n",
       "      <td>0.0</td>\n",
       "      <td>0.0</td>\n",
       "      <td>0.0</td>\n",
       "      <td>0.0</td>\n",
       "      <td>0.0</td>\n",
       "      <td>0.0</td>\n",
       "      <td>0.0</td>\n",
       "      <td>0.0</td>\n",
       "      <td>0.0</td>\n",
       "      <td>...</td>\n",
       "      <td>0.0</td>\n",
       "      <td>0.0</td>\n",
       "      <td>0.0</td>\n",
       "      <td>0.0</td>\n",
       "      <td>0.0</td>\n",
       "      <td>0.0</td>\n",
       "      <td>0.0</td>\n",
       "      <td>0.0</td>\n",
       "      <td>0.0</td>\n",
       "      <td>0.0</td>\n",
       "    </tr>\n",
       "    <tr>\n",
       "      <th>...</th>\n",
       "      <td>...</td>\n",
       "      <td>...</td>\n",
       "      <td>...</td>\n",
       "      <td>...</td>\n",
       "      <td>...</td>\n",
       "      <td>...</td>\n",
       "      <td>...</td>\n",
       "      <td>...</td>\n",
       "      <td>...</td>\n",
       "      <td>...</td>\n",
       "      <td>...</td>\n",
       "      <td>...</td>\n",
       "      <td>...</td>\n",
       "      <td>...</td>\n",
       "      <td>...</td>\n",
       "      <td>...</td>\n",
       "      <td>...</td>\n",
       "      <td>...</td>\n",
       "      <td>...</td>\n",
       "      <td>...</td>\n",
       "      <td>...</td>\n",
       "    </tr>\n",
       "    <tr>\n",
       "      <th>ur99955002</th>\n",
       "      <td>0.0</td>\n",
       "      <td>0.0</td>\n",
       "      <td>0.0</td>\n",
       "      <td>0.0</td>\n",
       "      <td>0.0</td>\n",
       "      <td>0.0</td>\n",
       "      <td>0.0</td>\n",
       "      <td>0.0</td>\n",
       "      <td>0.0</td>\n",
       "      <td>0.0</td>\n",
       "      <td>...</td>\n",
       "      <td>0.0</td>\n",
       "      <td>0.0</td>\n",
       "      <td>0.0</td>\n",
       "      <td>0.0</td>\n",
       "      <td>0.0</td>\n",
       "      <td>0.0</td>\n",
       "      <td>0.0</td>\n",
       "      <td>0.0</td>\n",
       "      <td>0.0</td>\n",
       "      <td>0.0</td>\n",
       "    </tr>\n",
       "    <tr>\n",
       "      <th>ur99964320</th>\n",
       "      <td>0.0</td>\n",
       "      <td>0.0</td>\n",
       "      <td>0.0</td>\n",
       "      <td>0.0</td>\n",
       "      <td>0.0</td>\n",
       "      <td>0.0</td>\n",
       "      <td>0.0</td>\n",
       "      <td>0.0</td>\n",
       "      <td>0.0</td>\n",
       "      <td>0.0</td>\n",
       "      <td>...</td>\n",
       "      <td>0.0</td>\n",
       "      <td>0.0</td>\n",
       "      <td>0.0</td>\n",
       "      <td>0.0</td>\n",
       "      <td>0.0</td>\n",
       "      <td>9.0</td>\n",
       "      <td>0.0</td>\n",
       "      <td>0.0</td>\n",
       "      <td>0.0</td>\n",
       "      <td>0.0</td>\n",
       "    </tr>\n",
       "    <tr>\n",
       "      <th>ur99965244</th>\n",
       "      <td>0.0</td>\n",
       "      <td>0.0</td>\n",
       "      <td>0.0</td>\n",
       "      <td>0.0</td>\n",
       "      <td>0.0</td>\n",
       "      <td>0.0</td>\n",
       "      <td>0.0</td>\n",
       "      <td>0.0</td>\n",
       "      <td>0.0</td>\n",
       "      <td>0.0</td>\n",
       "      <td>...</td>\n",
       "      <td>0.0</td>\n",
       "      <td>0.0</td>\n",
       "      <td>0.0</td>\n",
       "      <td>0.0</td>\n",
       "      <td>0.0</td>\n",
       "      <td>0.0</td>\n",
       "      <td>0.0</td>\n",
       "      <td>6.0</td>\n",
       "      <td>0.0</td>\n",
       "      <td>0.0</td>\n",
       "    </tr>\n",
       "    <tr>\n",
       "      <th>ur99966337</th>\n",
       "      <td>0.0</td>\n",
       "      <td>0.0</td>\n",
       "      <td>0.0</td>\n",
       "      <td>0.0</td>\n",
       "      <td>0.0</td>\n",
       "      <td>0.0</td>\n",
       "      <td>0.0</td>\n",
       "      <td>0.0</td>\n",
       "      <td>0.0</td>\n",
       "      <td>0.0</td>\n",
       "      <td>...</td>\n",
       "      <td>0.0</td>\n",
       "      <td>0.0</td>\n",
       "      <td>0.0</td>\n",
       "      <td>0.0</td>\n",
       "      <td>0.0</td>\n",
       "      <td>0.0</td>\n",
       "      <td>0.0</td>\n",
       "      <td>0.0</td>\n",
       "      <td>0.0</td>\n",
       "      <td>0.0</td>\n",
       "    </tr>\n",
       "    <tr>\n",
       "      <th>ur99999734</th>\n",
       "      <td>0.0</td>\n",
       "      <td>0.0</td>\n",
       "      <td>0.0</td>\n",
       "      <td>0.0</td>\n",
       "      <td>0.0</td>\n",
       "      <td>0.0</td>\n",
       "      <td>0.0</td>\n",
       "      <td>0.0</td>\n",
       "      <td>0.0</td>\n",
       "      <td>0.0</td>\n",
       "      <td>...</td>\n",
       "      <td>0.0</td>\n",
       "      <td>0.0</td>\n",
       "      <td>0.0</td>\n",
       "      <td>0.0</td>\n",
       "      <td>505.0</td>\n",
       "      <td>0.0</td>\n",
       "      <td>10.0</td>\n",
       "      <td>49.5</td>\n",
       "      <td>0.0</td>\n",
       "      <td>0.0</td>\n",
       "    </tr>\n",
       "  </tbody>\n",
       "</table>\n",
       "<p>21178 rows × 287 columns</p>\n",
       "</div>"
      ],
      "text/plain": [
       "titleID                   tt0034583  tt0050083  tt0054215  tt0060196  \\\n",
       "userID                                                                 \n",
       "641c87d06a97e629837fc079        0.0        0.0        0.0        0.0   \n",
       "ur0000011                       0.0        0.0        0.0        0.0   \n",
       "ur0000039                       0.0        0.0        0.0        0.0   \n",
       "ur0000066                       0.0        0.0        0.0        0.0   \n",
       "ur0000157                       0.0        0.0        0.0        0.0   \n",
       "...                             ...        ...        ...        ...   \n",
       "ur99955002                      0.0        0.0        0.0        0.0   \n",
       "ur99964320                      0.0        0.0        0.0        0.0   \n",
       "ur99965244                      0.0        0.0        0.0        0.0   \n",
       "ur99966337                      0.0        0.0        0.0        0.0   \n",
       "ur99999734                      0.0        0.0        0.0        0.0   \n",
       "\n",
       "titleID                   tt0062622  tt0066921  tt0068646  tt0071562  \\\n",
       "userID                                                                 \n",
       "641c87d06a97e629837fc079        0.0        0.0        0.0        0.0   \n",
       "ur0000011                       0.0        0.0        0.0        0.0   \n",
       "ur0000039                       0.0        0.0        0.0        0.0   \n",
       "ur0000066                       0.0        0.0        0.0        0.0   \n",
       "ur0000157                       0.0        0.0        0.0        0.0   \n",
       "...                             ...        ...        ...        ...   \n",
       "ur99955002                      0.0        0.0        0.0        0.0   \n",
       "ur99964320                      0.0        0.0        0.0        0.0   \n",
       "ur99965244                      0.0        0.0        0.0        0.0   \n",
       "ur99966337                      0.0        0.0        0.0        0.0   \n",
       "ur99999734                      0.0        0.0        0.0        0.0   \n",
       "\n",
       "titleID                   tt0071853  tt0073195  ...  tt5463162  tt6320628  \\\n",
       "userID                                          ...                         \n",
       "641c87d06a97e629837fc079        0.0        0.0  ...        0.0        0.0   \n",
       "ur0000011                       0.0        0.0  ...        0.0        0.0   \n",
       "ur0000039                       0.0        0.0  ...        0.0        0.0   \n",
       "ur0000066                       0.0        0.0  ...        0.0        0.0   \n",
       "ur0000157                       0.0        0.0  ...        0.0        0.0   \n",
       "...                             ...        ...  ...        ...        ...   \n",
       "ur99955002                      0.0        0.0  ...        0.0        0.0   \n",
       "ur99964320                      0.0        0.0  ...        0.0        0.0   \n",
       "ur99965244                      0.0        0.0  ...        0.0        0.0   \n",
       "ur99966337                      0.0        0.0  ...        0.0        0.0   \n",
       "ur99999734                      0.0        0.0  ...        0.0        0.0   \n",
       "\n",
       "titleID                   tt6644200  tt6723592  tt6751668  tt6966692  \\\n",
       "userID                                                                 \n",
       "641c87d06a97e629837fc079        0.0        0.0        0.0        0.0   \n",
       "ur0000011                       0.0        0.0        0.0        0.0   \n",
       "ur0000039                       0.0        0.0        0.0        0.0   \n",
       "ur0000066                       0.0        0.0        0.0        0.0   \n",
       "ur0000157                       0.0        0.0        0.0        0.0   \n",
       "...                             ...        ...        ...        ...   \n",
       "ur99955002                      0.0        0.0        0.0        0.0   \n",
       "ur99964320                      0.0        0.0        0.0        9.0   \n",
       "ur99965244                      0.0        0.0        0.0        0.0   \n",
       "ur99966337                      0.0        0.0        0.0        0.0   \n",
       "ur99999734                      0.0        0.0      505.0        0.0   \n",
       "\n",
       "titleID                   tt7131622  tt7286456  tt8579674  tt8946378  \n",
       "userID                                                                \n",
       "641c87d06a97e629837fc079        0.0        0.0        0.0        0.0  \n",
       "ur0000011                       0.0        0.0        0.0        0.0  \n",
       "ur0000039                       0.0        0.0        0.0        7.0  \n",
       "ur0000066                       0.0        0.0        0.0        0.0  \n",
       "ur0000157                       0.0        0.0        0.0        0.0  \n",
       "...                             ...        ...        ...        ...  \n",
       "ur99955002                      0.0        0.0        0.0        0.0  \n",
       "ur99964320                      0.0        0.0        0.0        0.0  \n",
       "ur99965244                      0.0        6.0        0.0        0.0  \n",
       "ur99966337                      0.0        0.0        0.0        0.0  \n",
       "ur99999734                     10.0       49.5        0.0        0.0  \n",
       "\n",
       "[21178 rows x 287 columns]"
      ]
     },
     "execution_count": 14,
     "metadata": {},
     "output_type": "execute_result"
    }
   ],
   "source": [
    "movieUser_df"
   ]
  },
  {
   "cell_type": "code",
   "execution_count": 15,
   "id": "3dba9834",
   "metadata": {},
   "outputs": [
    {
     "data": {
      "text/plain": [
       "0"
      ]
     },
     "execution_count": 15,
     "metadata": {},
     "output_type": "execute_result"
    }
   ],
   "source": [
    "target_user"
   ]
  },
  {
   "cell_type": "code",
   "execution_count": 16,
   "id": "cd7c0bad",
   "metadata": {},
   "outputs": [],
   "source": [
    "highestMovies.append(list(refined_dataset[refined_dataset['userID'] == target_user_id].sort_values('rating', ascending=False)['titleID'])[:no_of_highest])"
   ]
  },
  {
   "cell_type": "code",
   "execution_count": 17,
   "id": "692917c8",
   "metadata": {},
   "outputs": [],
   "source": [
    "similar_user_list, distance_list = similar_users(target_user, no_of_similar_users)\n",
    "weighted_list = distance_list/np.sum(distance_list)\n",
    "similar_user_ratings = movieUser_df.values[similar_user_list]\n",
    "weighted_list = weighted_list[:,np.newaxis] + np.zeros(len(movie_list))\n",
    "ratings_matrix = weighted_list*similar_user_ratings\n",
    "mean_ratings_list = ratings_matrix.sum(axis =0)"
   ]
  },
  {
   "cell_type": "code",
   "execution_count": 18,
   "id": "b2f29946",
   "metadata": {},
   "outputs": [
    {
     "data": {
      "text/plain": [
       "[['tt6751668', 'tt1856101', 'tt2802144', 'tt7131622', 'tt8579674']]"
      ]
     },
     "execution_count": 18,
     "metadata": {},
     "output_type": "execute_result"
    }
   ],
   "source": [
    "recommend_movies(no_of_movies)"
   ]
  },
  {
   "cell_type": "code",
   "execution_count": 19,
   "id": "f388ed76",
   "metadata": {},
   "outputs": [],
   "source": [
    "dict1 = {'Users_Top_Movies': highestMovies, 'Similar_Users': simUsers, 'Sim_User_distances': userDistances, 'Recommendatons': recommendedMovies}"
   ]
  },
  {
   "cell_type": "code",
   "execution_count": 20,
   "id": "554f94b2",
   "metadata": {
    "scrolled": false
   },
   "outputs": [
    {
     "data": {
      "text/plain": [
       "{'Users_Top_Movies': [['tt0099785']],\n",
       " 'Similar_Users': [20530, 20758, 15859, 18353, 4107],\n",
       " 'Sim_User_distances': [0.003765914599902831,\n",
       "  0.0049608789949019405,\n",
       "  0.005120760520097245,\n",
       "  0.005155903583077492,\n",
       "  0.005155908224726002],\n",
       " 'Recommendatons': [['tt6751668',\n",
       "   'tt1856101',\n",
       "   'tt2802144',\n",
       "   'tt7131622',\n",
       "   'tt8579674']]}"
      ]
     },
     "execution_count": 20,
     "metadata": {},
     "output_type": "execute_result"
    }
   ],
   "source": [
    "dict1"
   ]
  },
  {
   "cell_type": "code",
   "execution_count": 21,
   "id": "d0eb68f1",
   "metadata": {},
   "outputs": [
    {
     "data": {
      "text/plain": [
       "['tt6751668', 'tt1856101', 'tt2802144', 'tt7131622', 'tt8579674']"
      ]
     },
     "execution_count": 21,
     "metadata": {},
     "output_type": "execute_result"
    }
   ],
   "source": [
    "list(movie_list[np.argsort(mean_ratings_list)[::-1][:5]])"
   ]
  },
  {
   "cell_type": "code",
   "execution_count": 22,
   "id": "f46c4813",
   "metadata": {},
   "outputs": [
    {
     "data": {
      "text/html": [
       "<div>\n",
       "<style scoped>\n",
       "    .dataframe tbody tr th:only-of-type {\n",
       "        vertical-align: middle;\n",
       "    }\n",
       "\n",
       "    .dataframe tbody tr th {\n",
       "        vertical-align: top;\n",
       "    }\n",
       "\n",
       "    .dataframe thead th {\n",
       "        text-align: right;\n",
       "    }\n",
       "</style>\n",
       "<table border=\"1\" class=\"dataframe\">\n",
       "  <thead>\n",
       "    <tr style=\"text-align: right;\">\n",
       "      <th></th>\n",
       "      <th>titleID</th>\n",
       "      <th>userID</th>\n",
       "      <th>primaryTitle</th>\n",
       "      <th>rating</th>\n",
       "    </tr>\n",
       "  </thead>\n",
       "  <tbody>\n",
       "    <tr>\n",
       "      <th>154289</th>\n",
       "      <td>tt8946378</td>\n",
       "      <td>ur99907711</td>\n",
       "      <td>Knives Out</td>\n",
       "      <td>5.0</td>\n",
       "    </tr>\n",
       "    <tr>\n",
       "      <th>154290</th>\n",
       "      <td>tt0099785</td>\n",
       "      <td>641c87d06a97e629837fc079</td>\n",
       "      <td>Home Alone</td>\n",
       "      <td>8.0</td>\n",
       "    </tr>\n",
       "  </tbody>\n",
       "</table>\n",
       "</div>"
      ],
      "text/plain": [
       "          titleID                    userID primaryTitle rating\n",
       "154289  tt8946378                ur99907711   Knives Out    5.0\n",
       "154290  tt0099785  641c87d06a97e629837fc079   Home Alone    8.0"
      ]
     },
     "execution_count": 22,
     "metadata": {},
     "output_type": "execute_result"
    }
   ],
   "source": [
    "refined_dataset.tail(2)"
   ]
  },
  {
   "cell_type": "code",
   "execution_count": 23,
   "id": "729cbe37",
   "metadata": {},
   "outputs": [],
   "source": [
    "refined_dataset.to_csv('testest.csv')"
   ]
  },
  {
   "cell_type": "code",
   "execution_count": null,
   "id": "bd4582d1",
   "metadata": {},
   "outputs": [],
   "source": []
  },
  {
   "cell_type": "code",
   "execution_count": 24,
   "id": "8f30da27",
   "metadata": {},
   "outputs": [
    {
     "ename": "NameError",
     "evalue": "name 'testest' is not defined",
     "output_type": "error",
     "traceback": [
      "\u001b[1;31m---------------------------------------------------------------------------\u001b[0m",
      "\u001b[1;31mNameError\u001b[0m                                 Traceback (most recent call last)",
      "\u001b[1;32m~\\AppData\\Local\\Temp\\ipykernel_19544\\1485560106.py\u001b[0m in \u001b[0;36m<module>\u001b[1;34m\u001b[0m\n\u001b[1;32m----> 1\u001b[1;33m \u001b[0mtestest\u001b[0m\u001b[1;33m\u001b[0m\u001b[1;33m\u001b[0m\u001b[0m\n\u001b[0m",
      "\u001b[1;31mNameError\u001b[0m: name 'testest' is not defined"
     ]
    }
   ],
   "source": [
    "testest"
   ]
  },
  {
   "cell_type": "code",
   "execution_count": null,
   "id": "2caf6871",
   "metadata": {},
   "outputs": [],
   "source": [
    "testest = pd.read_csv('testest.csv')"
   ]
  },
  {
   "cell_type": "code",
   "execution_count": null,
   "id": "a32018cf",
   "metadata": {},
   "outputs": [],
   "source": []
  }
 ],
 "metadata": {
  "kernelspec": {
   "display_name": "Python 3 (ipykernel)",
   "language": "python",
   "name": "python3"
  },
  "language_info": {
   "codemirror_mode": {
    "name": "ipython",
    "version": 3
   },
   "file_extension": ".py",
   "mimetype": "text/x-python",
   "name": "python",
   "nbconvert_exporter": "python",
   "pygments_lexer": "ipython3",
   "version": "3.9.13"
  }
 },
 "nbformat": 4,
 "nbformat_minor": 5
}
