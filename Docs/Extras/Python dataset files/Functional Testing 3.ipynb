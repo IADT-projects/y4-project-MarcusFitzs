{
 "cells": [
  {
   "cell_type": "code",
   "execution_count": 1,
   "id": "45203723",
   "metadata": {},
   "outputs": [],
   "source": [
    "import numpy as np\n",
    "import pandas as pd"
   ]
  },
  {
   "cell_type": "code",
   "execution_count": 3,
   "id": "464d13d5",
   "metadata": {},
   "outputs": [
    {
     "name": "stderr",
     "output_type": "stream",
     "text": [
      "C:\\Users\\Fitzi\\AppData\\Local\\Temp\\ipykernel_12320\\1941393381.py:1: DtypeWarning: Columns (4) have mixed types. Specify dtype option on import or set low_memory=False.\n",
      "  movie_titles_df_10 = pd.read_csv('title_merge_ratings_10.csv')\n",
      "C:\\Users\\Fitzi\\AppData\\Local\\Temp\\ipykernel_12320\\1941393381.py:2: DtypeWarning: Columns (4) have mixed types. Specify dtype option on import or set low_memory=False.\n",
      "  movie_titles_df_100 = pd.read_csv('title_merge_ratings_100.csv')\n",
      "C:\\Users\\Fitzi\\AppData\\Local\\Temp\\ipykernel_12320\\1941393381.py:3: DtypeWarning: Columns (4) have mixed types. Specify dtype option on import or set low_memory=False.\n",
      "  movie_titles_df_1000 = pd.read_csv('title_merge_ratings_1000.csv')\n"
     ]
    }
   ],
   "source": [
    "movie_titles_df_10 = pd.read_csv('title_merge_ratings_10.csv')\n",
    "movie_titles_df_100 = pd.read_csv('title_merge_ratings_100.csv')\n",
    "movie_titles_df_1000 = pd.read_csv('title_merge_ratings_1000.csv')\n",
    "movie_titles_df_10000 = pd.read_csv('title_merge_ratings_10000.csv')\n",
    "movie_titles_df_100000 = pd.read_csv('title_merge_ratings_100000.csv')\n",
    "movie_titles_df_500000 = pd.read_csv('title_merge_ratings_500000.csv')\n",
    "\n",
    "user_ratings_df_5 = pd.read_csv('user_ratings_df_trimmed_5.csv')\n",
    "user_ratings_df_10 = pd.read_csv('user_ratings_df_trimmed_10.csv')\n",
    "user_ratings_df_15 = pd.read_csv('user_ratings_df_trimmed_15.csv')\n",
    "user_ratings_df_25 = pd.read_csv('user_ratings_df_trimmed_25.csv')\n",
    "user_ratings_df_50 = pd.read_csv('user_ratings_df_trimmed_50.csv')\n",
    "user_ratings_df_100 = pd.read_csv('user_ratings_df_trimmed_100.csv')"
   ]
  },
  {
   "cell_type": "code",
   "execution_count": 7,
   "id": "29ccd9da",
   "metadata": {},
   "outputs": [],
   "source": [
    "movie_titles_df_10 = movie_titles_df_10.drop(['Unnamed: 0', 'titleType', 'startYear', 'runtimeMinutes', 'genres', 'averageRating', 'numVotes', 'Action', 'Adult', 'Adventure', 'Animation', 'Biography', 'Comedy', 'Crime', 'Documentary', 'Drama', 'Family', 'Fantasy', 'Film-Noir', 'Game-Show', 'History', 'Horror', 'Music', 'Musical', 'Mystery', 'News', 'Reality-TV', 'Romance', 'Sci-Fi', 'Short', 'Sport', 'Talk-Show', 'Thriller', 'War', 'Western'], axis=1)\n",
    "movie_titles_df_100 = movie_titles_df_100.drop(['Unnamed: 0', 'titleType', 'startYear', 'runtimeMinutes', 'genres', 'averageRating', 'numVotes', 'Action', 'Adult', 'Adventure', 'Animation', 'Biography', 'Comedy', 'Crime', 'Documentary', 'Drama', 'Family', 'Fantasy', 'Film-Noir', 'Game-Show', 'History', 'Horror', 'Music', 'Musical', 'Mystery', 'News', 'Reality-TV', 'Romance', 'Sci-Fi', 'Short', 'Sport', 'Talk-Show', 'Thriller', 'War', 'Western'], axis=1)\n",
    "movie_titles_df_1000 = movie_titles_df_1000.drop(['Unnamed: 0', 'titleType', 'startYear', 'runtimeMinutes', 'genres', 'averageRating', 'numVotes', 'Action', 'Adult', 'Adventure', 'Animation', 'Biography', 'Comedy', 'Crime', 'Documentary', 'Drama', 'Family', 'Fantasy', 'Film-Noir', 'Game-Show', 'History', 'Horror', 'Music', 'Musical', 'Mystery', 'News', 'Reality-TV', 'Romance', 'Sci-Fi', 'Short', 'Sport', 'Talk-Show', 'Thriller', 'War', 'Western'], axis=1)\n",
    "movie_titles_df_10000 = movie_titles_df_10000.drop(['Unnamed: 0', 'titleType', 'startYear', 'runtimeMinutes', 'genres', 'averageRating', 'numVotes', 'Action', 'Adult', 'Adventure', 'Animation', 'Biography', 'Comedy', 'Crime', 'Documentary', 'Drama', 'Family', 'Fantasy', 'Film-Noir', 'Game-Show', 'History', 'Horror', 'Music', 'Musical', 'Mystery', 'News', 'Reality-TV', 'Romance', 'Sci-Fi', 'Short', 'Sport', 'Talk-Show', 'Thriller', 'War', 'Western'], axis=1)\n",
    "movie_titles_df_100000 = movie_titles_df_100000.drop(['Unnamed: 0', 'titleType', 'startYear', 'runtimeMinutes', 'genres', 'averageRating', 'numVotes', 'Action', 'Adult', 'Adventure', 'Animation', 'Biography', 'Comedy', 'Crime', 'Documentary', 'Drama', 'Family', 'Fantasy', 'Film-Noir', 'Game-Show', 'History', 'Horror', 'Music', 'Musical', 'Mystery', 'News', 'Reality-TV', 'Romance', 'Sci-Fi', 'Short', 'Sport', 'Talk-Show', 'Thriller', 'War', 'Western'], axis=1)\n",
    "movie_titles_df_500000 = movie_titles_df_500000.drop(['Unnamed: 0', 'titleType', 'startYear', 'runtimeMinutes', 'genres', 'averageRating', 'numVotes', 'Action', 'Adult', 'Adventure', 'Animation', 'Biography', 'Comedy', 'Crime', 'Documentary', 'Drama', 'Family', 'Fantasy', 'Film-Noir', 'Game-Show', 'History', 'Horror', 'Music', 'Musical', 'Mystery', 'News', 'Reality-TV', 'Romance', 'Sci-Fi', 'Short', 'Sport', 'Talk-Show', 'Thriller', 'War', 'Western'], axis=1)\n",
    "\n",
    "user_ratings_df_5 = user_ratings_df_5.drop('Unnamed: 0', axis=1)\n",
    "user_ratings_df_10 = user_ratings_df_10.drop('Unnamed: 0', axis=1)\n",
    "user_ratings_df_15 = user_ratings_df_15.drop('Unnamed: 0', axis=1)\n",
    "user_ratings_df_25 = user_ratings_df_25.drop('Unnamed: 0', axis=1)\n",
    "user_ratings_df_50 = user_ratings_df_50.drop('Unnamed: 0', axis=1)\n",
    "user_ratings_df_100 = user_ratings_df_100.drop('Unnamed: 0', axis=1)"
   ]
  },
  {
   "cell_type": "code",
   "execution_count": 10,
   "id": "bcfad9d0",
   "metadata": {},
   "outputs": [],
   "source": [
    "movie_titles_df_10.rename(columns={'tconst': 'titleID'}, inplace=True)\n",
    "movie_titles_df_100.rename(columns={'tconst': 'titleID'}, inplace=True)\n",
    "movie_titles_df_1000.rename(columns={'tconst': 'titleID'}, inplace=True)\n",
    "movie_titles_df_10000.rename(columns={'tconst': 'titleID'}, inplace=True)\n",
    "movie_titles_df_100000.rename(columns={'tconst': 'titleID'}, inplace=True)\n",
    "movie_titles_df_500000.rename(columns={'tconst': 'titleID'}, inplace=True)"
   ]
  },
  {
   "cell_type": "code",
   "execution_count": 13,
   "id": "47621271",
   "metadata": {},
   "outputs": [],
   "source": [
    "combined_df_mt10_ur5 = pd.merge(movie_titles_df_10, user_ratings_df_5)\n",
    "combined_df_mt10_ur10 = pd.merge(movie_titles_df_10, user_ratings_df_10)\n",
    "combined_df_mt10_ur15 = pd.merge(movie_titles_df_10, user_ratings_df_15)\n",
    "combined_df_mt10_ur25 = pd.merge(movie_titles_df_10, user_ratings_df_25)\n",
    "combined_df_mt10_ur50 = pd.merge(movie_titles_df_10, user_ratings_df_50)\n",
    "combined_df_mt10_ur100 = pd.merge(movie_titles_df_10, user_ratings_df_100)\n",
    "\n",
    "combined_df_mt100_ur5 = pd.merge(movie_titles_df_100, user_ratings_df_5)\n",
    "combined_df_mt100_ur10 = pd.merge(movie_titles_df_100, user_ratings_df_10)\n",
    "combined_df_mt100_ur15 = pd.merge(movie_titles_df_100, user_ratings_df_15)\n",
    "combined_df_mt100_ur25 = pd.merge(movie_titles_df_100, user_ratings_df_25)\n",
    "combined_df_mt100_ur50 = pd.merge(movie_titles_df_100, user_ratings_df_50)\n",
    "combined_df_mt100_ur100 = pd.merge(movie_titles_df_100, user_ratings_df_100)\n",
    "\n",
    "combined_df_mt1000_ur5 = pd.merge(movie_titles_df_1000, user_ratings_df_5)\n",
    "combined_df_mt1000_ur10 = pd.merge(movie_titles_df_1000, user_ratings_df_10)\n",
    "combined_df_mt1000_ur15 = pd.merge(movie_titles_df_1000, user_ratings_df_15)\n",
    "combined_df_mt1000_ur25 = pd.merge(movie_titles_df_1000, user_ratings_df_25)\n",
    "combined_df_mt1000_ur50 = pd.merge(movie_titles_df_1000, user_ratings_df_50)\n",
    "combined_df_mt1000_ur100 = pd.merge(movie_titles_df_1000, user_ratings_df_100)\n",
    "\n",
    "combined_df_mt10000_ur5 = pd.merge(movie_titles_df_10000, user_ratings_df_5)\n",
    "combined_df_mt10000_ur10 = pd.merge(movie_titles_df_10000, user_ratings_df_10)\n",
    "combined_df_mt10000_ur15 = pd.merge(movie_titles_df_10000, user_ratings_df_15)\n",
    "combined_df_mt10000_ur25 = pd.merge(movie_titles_df_10000, user_ratings_df_25)\n",
    "combined_df_mt10000_ur50 = pd.merge(movie_titles_df_10000, user_ratings_df_50)\n",
    "combined_df_mt10000_ur100 = pd.merge(movie_titles_df_10000, user_ratings_df_100)\n",
    "\n",
    "combined_df_mt100000_ur5 = pd.merge(movie_titles_df_100000, user_ratings_df_5)\n",
    "combined_df_mt100000_ur10 = pd.merge(movie_titles_df_100000, user_ratings_df_10)\n",
    "combined_df_mt100000_ur15 = pd.merge(movie_titles_df_100000, user_ratings_df_15)\n",
    "combined_df_mt100000_ur25 = pd.merge(movie_titles_df_100000, user_ratings_df_25)\n",
    "combined_df_mt100000_ur50 = pd.merge(movie_titles_df_100000, user_ratings_df_50)\n",
    "combined_df_mt100000_ur100 = pd.merge(movie_titles_df_100000, user_ratings_df_100)\n",
    "\n",
    "combined_df_mt500000_ur5 = pd.merge(movie_titles_df_500000, user_ratings_df_5)\n",
    "combined_df_mt500000_ur10 = pd.merge(movie_titles_df_500000, user_ratings_df_10)\n",
    "combined_df_mt500000_ur15 = pd.merge(movie_titles_df_500000, user_ratings_df_15)\n",
    "combined_df_mt500000_ur25 = pd.merge(movie_titles_df_500000, user_ratings_df_25)\n",
    "combined_df_mt500000_ur50 = pd.merge(movie_titles_df_500000, user_ratings_df_50)\n",
    "combined_df_mt500000_ur100 = pd.merge(movie_titles_df_500000, user_ratings_df_100)"
   ]
  },
  {
   "cell_type": "code",
   "execution_count": 14,
   "id": "1f578bb9",
   "metadata": {},
   "outputs": [
    {
     "data": {
      "text/html": [
       "<div>\n",
       "<style scoped>\n",
       "    .dataframe tbody tr th:only-of-type {\n",
       "        vertical-align: middle;\n",
       "    }\n",
       "\n",
       "    .dataframe tbody tr th {\n",
       "        vertical-align: top;\n",
       "    }\n",
       "\n",
       "    .dataframe thead th {\n",
       "        text-align: right;\n",
       "    }\n",
       "</style>\n",
       "<table border=\"1\" class=\"dataframe\">\n",
       "  <thead>\n",
       "    <tr style=\"text-align: right;\">\n",
       "      <th></th>\n",
       "      <th>titleID</th>\n",
       "      <th>primaryTitle</th>\n",
       "      <th>userID</th>\n",
       "      <th>rating</th>\n",
       "    </tr>\n",
       "  </thead>\n",
       "  <tbody>\n",
       "    <tr>\n",
       "      <th>0</th>\n",
       "      <td>tt0000147</td>\n",
       "      <td>The Corbett-Fitzsimmons Fight</td>\n",
       "      <td>ur2483625</td>\n",
       "      <td>8</td>\n",
       "    </tr>\n",
       "    <tr>\n",
       "      <th>1</th>\n",
       "      <td>tt0000147</td>\n",
       "      <td>The Corbett-Fitzsimmons Fight</td>\n",
       "      <td>ur1234929</td>\n",
       "      <td>8</td>\n",
       "    </tr>\n",
       "    <tr>\n",
       "      <th>2</th>\n",
       "      <td>tt0000574</td>\n",
       "      <td>The Story of the Kelly Gang</td>\n",
       "      <td>ur1609079</td>\n",
       "      <td>10</td>\n",
       "    </tr>\n",
       "    <tr>\n",
       "      <th>3</th>\n",
       "      <td>tt0000574</td>\n",
       "      <td>The Story of the Kelly Gang</td>\n",
       "      <td>ur13283282</td>\n",
       "      <td>10</td>\n",
       "    </tr>\n",
       "    <tr>\n",
       "      <th>4</th>\n",
       "      <td>tt0000574</td>\n",
       "      <td>The Story of the Kelly Gang</td>\n",
       "      <td>ur10334028</td>\n",
       "      <td>9</td>\n",
       "    </tr>\n",
       "    <tr>\n",
       "      <th>...</th>\n",
       "      <td>...</td>\n",
       "      <td>...</td>\n",
       "      <td>...</td>\n",
       "      <td>...</td>\n",
       "    </tr>\n",
       "    <tr>\n",
       "      <th>2211211</th>\n",
       "      <td>tt9916190</td>\n",
       "      <td>Safeguard</td>\n",
       "      <td>ur90915455</td>\n",
       "      <td>1</td>\n",
       "    </tr>\n",
       "    <tr>\n",
       "      <th>2211212</th>\n",
       "      <td>tt9916190</td>\n",
       "      <td>Safeguard</td>\n",
       "      <td>ur99964320</td>\n",
       "      <td>3</td>\n",
       "    </tr>\n",
       "    <tr>\n",
       "      <th>2211213</th>\n",
       "      <td>tt9916190</td>\n",
       "      <td>Safeguard</td>\n",
       "      <td>ur17087537</td>\n",
       "      <td>4</td>\n",
       "    </tr>\n",
       "    <tr>\n",
       "      <th>2211214</th>\n",
       "      <td>tt9916270</td>\n",
       "      <td>Il talento del calabrone</td>\n",
       "      <td>ur0430892</td>\n",
       "      <td>5</td>\n",
       "    </tr>\n",
       "    <tr>\n",
       "      <th>2211215</th>\n",
       "      <td>tt9916428</td>\n",
       "      <td>The Secret of China</td>\n",
       "      <td>ur22484170</td>\n",
       "      <td>8</td>\n",
       "    </tr>\n",
       "  </tbody>\n",
       "</table>\n",
       "<p>2211216 rows × 4 columns</p>\n",
       "</div>"
      ],
      "text/plain": [
       "           titleID                   primaryTitle      userID  rating\n",
       "0        tt0000147  The Corbett-Fitzsimmons Fight   ur2483625       8\n",
       "1        tt0000147  The Corbett-Fitzsimmons Fight   ur1234929       8\n",
       "2        tt0000574    The Story of the Kelly Gang   ur1609079      10\n",
       "3        tt0000574    The Story of the Kelly Gang  ur13283282      10\n",
       "4        tt0000574    The Story of the Kelly Gang  ur10334028       9\n",
       "...            ...                            ...         ...     ...\n",
       "2211211  tt9916190                      Safeguard  ur90915455       1\n",
       "2211212  tt9916190                      Safeguard  ur99964320       3\n",
       "2211213  tt9916190                      Safeguard  ur17087537       4\n",
       "2211214  tt9916270       Il talento del calabrone   ur0430892       5\n",
       "2211215  tt9916428            The Secret of China  ur22484170       8\n",
       "\n",
       "[2211216 rows x 4 columns]"
      ]
     },
     "execution_count": 14,
     "metadata": {},
     "output_type": "execute_result"
    }
   ],
   "source": [
    "combined_df_mt10_ur5"
   ]
  },
  {
   "cell_type": "code",
   "execution_count": 17,
   "id": "a6d9fdae",
   "metadata": {},
   "outputs": [],
   "source": [
    "refined_df_mt10_ur5 = combined_df_mt10_ur5.groupby(by=['titleID','userID','primaryTitle'], as_index=False).agg({\"rating\":\"mean\"})\n",
    "refined_df_mt10_ur10 = combined_df_mt10_ur10.groupby(by=['titleID','userID','primaryTitle'], as_index=False).agg({\"rating\":\"mean\"})\n",
    "refined_df_mt10_ur15 = combined_df_mt10_ur15.groupby(by=['titleID','userID','primaryTitle'], as_index=False).agg({\"rating\":\"mean\"})\n",
    "refined_df_mt10_ur25 = combined_df_mt10_ur25.groupby(by=['titleID','userID','primaryTitle'], as_index=False).agg({\"rating\":\"mean\"})\n",
    "refined_df_mt10_ur50 = combined_df_mt10_ur50.groupby(by=['titleID','userID','primaryTitle'], as_index=False).agg({\"rating\":\"mean\"})\n",
    "refined_df_mt10_ur100 = combined_df_mt10_ur100.groupby(by=['titleID','userID','primaryTitle'], as_index=False).agg({\"rating\":\"mean\"})\n",
    "\n",
    "refined_df_mt100_ur5 = combined_df_mt100_ur5.groupby(by=['titleID','userID','primaryTitle'], as_index=False).agg({\"rating\":\"mean\"})\n",
    "refined_df_mt100_ur10 = combined_df_mt100_ur10.groupby(by=['titleID','userID','primaryTitle'], as_index=False).agg({\"rating\":\"mean\"})\n",
    "refined_df_mt100_ur15 = combined_df_mt100_ur15.groupby(by=['titleID','userID','primaryTitle'], as_index=False).agg({\"rating\":\"mean\"})\n",
    "refined_df_mt100_ur25 = combined_df_mt100_ur25.groupby(by=['titleID','userID','primaryTitle'], as_index=False).agg({\"rating\":\"mean\"})\n",
    "refined_df_mt100_ur50 = combined_df_mt100_ur50.groupby(by=['titleID','userID','primaryTitle'], as_index=False).agg({\"rating\":\"mean\"})\n",
    "refined_df_mt100_ur100 = combined_df_mt100_ur100.groupby(by=['titleID','userID','primaryTitle'], as_index=False).agg({\"rating\":\"mean\"})\n",
    "\n",
    "refined_df_mt1000_ur5 = combined_df_mt1000_ur5.groupby(by=['titleID','userID','primaryTitle'], as_index=False).agg({\"rating\":\"mean\"})\n",
    "refined_df_mt1000_ur10 = combined_df_mt1000_ur10.groupby(by=['titleID','userID','primaryTitle'], as_index=False).agg({\"rating\":\"mean\"})\n",
    "refined_df_mt1000_ur15 = combined_df_mt1000_ur15.groupby(by=['titleID','userID','primaryTitle'], as_index=False).agg({\"rating\":\"mean\"})\n",
    "refined_df_mt1000_ur25 = combined_df_mt1000_ur25.groupby(by=['titleID','userID','primaryTitle'], as_index=False).agg({\"rating\":\"mean\"})\n",
    "refined_df_mt1000_ur50 = combined_df_mt1000_ur50.groupby(by=['titleID','userID','primaryTitle'], as_index=False).agg({\"rating\":\"mean\"})\n",
    "refined_df_mt1000_ur100 = combined_df_mt1000_ur100.groupby(by=['titleID','userID','primaryTitle'], as_index=False).agg({\"rating\":\"mean\"})\n",
    "\n",
    "refined_df_mt10000_ur5 = combined_df_mt10000_ur5.groupby(by=['titleID','userID','primaryTitle'], as_index=False).agg({\"rating\":\"mean\"})\n",
    "refined_df_mt10000_ur10 = combined_df_mt10000_ur10.groupby(by=['titleID','userID','primaryTitle'], as_index=False).agg({\"rating\":\"mean\"})\n",
    "refined_df_mt10000_ur15 = combined_df_mt10000_ur15.groupby(by=['titleID','userID','primaryTitle'], as_index=False).agg({\"rating\":\"mean\"})\n",
    "refined_df_mt10000_ur25 = combined_df_mt10000_ur25.groupby(by=['titleID','userID','primaryTitle'], as_index=False).agg({\"rating\":\"mean\"})\n",
    "refined_df_mt10000_ur50 = combined_df_mt10000_ur50.groupby(by=['titleID','userID','primaryTitle'], as_index=False).agg({\"rating\":\"mean\"})\n",
    "refined_df_mt10000_ur100 = combined_df_mt10000_ur100.groupby(by=['titleID','userID','primaryTitle'], as_index=False).agg({\"rating\":\"mean\"})\n",
    "\n",
    "refined_df_mt100000_ur5 = combined_df_mt100000_ur5.groupby(by=['titleID','userID','primaryTitle'], as_index=False).agg({\"rating\":\"mean\"})\n",
    "refined_df_mt100000_ur10 = combined_df_mt100000_ur10.groupby(by=['titleID','userID','primaryTitle'], as_index=False).agg({\"rating\":\"mean\"})\n",
    "refined_df_mt100000_ur15 = combined_df_mt100000_ur15.groupby(by=['titleID','userID','primaryTitle'], as_index=False).agg({\"rating\":\"mean\"})\n",
    "refined_df_mt100000_ur25 = combined_df_mt100000_ur25.groupby(by=['titleID','userID','primaryTitle'], as_index=False).agg({\"rating\":\"mean\"})\n",
    "refined_df_mt100000_ur50 = combined_df_mt100000_ur50.groupby(by=['titleID','userID','primaryTitle'], as_index=False).agg({\"rating\":\"mean\"})\n",
    "refined_df_mt100000_ur100 = combined_df_mt100000_ur100.groupby(by=['titleID','userID','primaryTitle'], as_index=False).agg({\"rating\":\"mean\"})\n",
    "\n",
    "refined_df_mt500000_ur5 = combined_df_mt500000_ur5.groupby(by=['titleID','userID','primaryTitle'], as_index=False).agg({\"rating\":\"mean\"})\n",
    "refined_df_mt500000_ur10 = combined_df_mt500000_ur10.groupby(by=['titleID','userID','primaryTitle'], as_index=False).agg({\"rating\":\"mean\"})\n",
    "refined_df_mt500000_ur15 = combined_df_mt500000_ur15.groupby(by=['titleID','userID','primaryTitle'], as_index=False).agg({\"rating\":\"mean\"})\n",
    "refined_df_mt500000_ur25 = combined_df_mt500000_ur25.groupby(by=['titleID','userID','primaryTitle'], as_index=False).agg({\"rating\":\"mean\"})\n",
    "refined_df_mt500000_ur50 = combined_df_mt500000_ur50.groupby(by=['titleID','userID','primaryTitle'], as_index=False).agg({\"rating\":\"mean\"})\n",
    "refined_df_mt500000_ur100 = combined_df_mt500000_ur100.groupby(by=['titleID','userID','primaryTitle'], as_index=False).agg({\"rating\":\"mean\"})"
   ]
  },
  {
   "cell_type": "code",
   "execution_count": 16,
   "id": "b42ddbf1",
   "metadata": {},
   "outputs": [],
   "source": [
    "# refined_df_mt10_ur5.to_csv('refined_df_mt10_ur5.csv')"
   ]
  },
  {
   "cell_type": "code",
   "execution_count": 52,
   "id": "e1560ca8",
   "metadata": {},
   "outputs": [
    {
     "data": {
      "text/plain": [
       "(287, 59748)"
      ]
     },
     "execution_count": 52,
     "metadata": {},
     "output_type": "execute_result"
    }
   ],
   "source": [
    "refined_df_mt500000_ur5['titleID'].nunique(), refined_df_mt500000_ur5['userID'].nunique()"
   ]
  },
  {
   "cell_type": "code",
   "execution_count": 53,
   "id": "8cf7bac7",
   "metadata": {},
   "outputs": [
    {
     "data": {
      "text/plain": [
       "(287, 31860)"
      ]
     },
     "execution_count": 53,
     "metadata": {},
     "output_type": "execute_result"
    }
   ],
   "source": [
    "refined_df_mt500000_ur10['titleID'].nunique(), refined_df_mt500000_ur10['userID'].nunique()"
   ]
  },
  {
   "cell_type": "code",
   "execution_count": 54,
   "id": "a0e2ad6d",
   "metadata": {},
   "outputs": [
    {
     "data": {
      "text/plain": [
       "(287, 21177)"
      ]
     },
     "execution_count": 54,
     "metadata": {},
     "output_type": "execute_result"
    }
   ],
   "source": [
    "refined_df_mt500000_ur15['titleID'].nunique(), refined_df_mt500000_ur15['userID'].nunique()"
   ]
  },
  {
   "cell_type": "code",
   "execution_count": 55,
   "id": "ae313d0f",
   "metadata": {},
   "outputs": [
    {
     "data": {
      "text/plain": [
       "(287, 12400)"
      ]
     },
     "execution_count": 55,
     "metadata": {},
     "output_type": "execute_result"
    }
   ],
   "source": [
    "refined_df_mt500000_ur25['titleID'].nunique(), refined_df_mt500000_ur25['userID'].nunique()"
   ]
  },
  {
   "cell_type": "code",
   "execution_count": 56,
   "id": "255afb00",
   "metadata": {},
   "outputs": [
    {
     "data": {
      "text/plain": [
       "(287, 5918)"
      ]
     },
     "execution_count": 56,
     "metadata": {},
     "output_type": "execute_result"
    }
   ],
   "source": [
    "refined_df_mt500000_ur50['titleID'].nunique(), refined_df_mt500000_ur50['userID'].nunique()"
   ]
  },
  {
   "cell_type": "code",
   "execution_count": 57,
   "id": "d65bd4c5",
   "metadata": {},
   "outputs": [
    {
     "data": {
      "text/plain": [
       "(287, 2876)"
      ]
     },
     "execution_count": 57,
     "metadata": {},
     "output_type": "execute_result"
    }
   ],
   "source": [
    "refined_df_mt500000_ur100['titleID'].nunique(), refined_df_mt500000_ur100['userID'].nunique()"
   ]
  },
  {
   "cell_type": "code",
   "execution_count": 59,
   "id": "e29d3635",
   "metadata": {},
   "outputs": [],
   "source": [
    "refined_df_mt10_ur5.to_csv('refined_df_mt10_ur5.csv')\n",
    "refined_df_mt10_ur10.to_csv('refined_df_mt10_ur10.csv')\n",
    "refined_df_mt10_ur15.to_csv('refined_df_mt10_ur15.csv')\n",
    "refined_df_mt10_ur25.to_csv('refined_df_mt10_ur25.csv')\n",
    "refined_df_mt10_ur50.to_csv('refined_df_mt10_ur50.csv')\n",
    "refined_df_mt10_ur100.to_csv('refined_df_mt10_ur100.csv')\n",
    "\n",
    "refined_df_mt100_ur5.to_csv('refined_df_mt100_ur5.csv')\n",
    "refined_df_mt100_ur10.to_csv('refined_df_mt100_ur10.csv')\n",
    "refined_df_mt100_ur15.to_csv('refined_df_mt100_ur15.csv')\n",
    "refined_df_mt100_ur25.to_csv('refined_df_mt100_ur25.csv')\n",
    "refined_df_mt100_ur50.to_csv('refined_df_mt100_ur50.csv')\n",
    "refined_df_mt100_ur100.to_csv('refined_df_mt100_ur100.csv')\n",
    "\n",
    "refined_df_mt1000_ur5.to_csv('refined_df_mt1000_ur5.csv')\n",
    "refined_df_mt1000_ur10.to_csv('refined_df_mt1000_ur10.csv')\n",
    "refined_df_mt1000_ur15.to_csv('refined_df_mt1000_ur15.csv')\n",
    "refined_df_mt1000_ur25.to_csv('refined_df_mt1000_ur25.csv')\n",
    "refined_df_mt1000_ur50.to_csv('refined_df_mt1000_ur50.csv')\n",
    "refined_df_mt1000_ur100.to_csv('refined_df_mt1000_ur100.csv')\n",
    "\n",
    "refined_df_mt10000_ur5.to_csv('refined_df_mt10000_ur5.csv')\n",
    "refined_df_mt10000_ur10.to_csv('refined_df_mt10000_ur10.csv')\n",
    "refined_df_mt10000_ur15.to_csv('refined_df_mt10000_ur15.csv')\n",
    "refined_df_mt10000_ur25.to_csv('refined_df_mt10000_ur25.csv')\n",
    "refined_df_mt10000_ur50.to_csv('refined_df_mt10000_ur50.csv')\n",
    "refined_df_mt10000_ur100.to_csv('refined_df_mt10000_ur100.csv')\n",
    "\n",
    "refined_df_mt100000_ur5.to_csv('refined_df_mt100000_ur5.csv')\n",
    "refined_df_mt100000_ur10.to_csv('refined_df_mt100000_ur10.csv')\n",
    "refined_df_mt100000_ur15.to_csv('refined_df_mt100000_ur15.csv')\n",
    "refined_df_mt100000_ur25.to_csv('refined_df_mt100000_ur25.csv')\n",
    "refined_df_mt100000_ur50.to_csv('refined_df_mt100000_ur50.csv')\n",
    "refined_df_mt100000_ur100.to_csv('refined_df_mt100000_ur100.csv')\n",
    "\n",
    "refined_df_mt500000_ur5.to_csv('refined_df_mt500000_ur5.csv')\n",
    "refined_df_mt500000_ur10.to_csv('refined_df_mt500000_ur10.csv')\n",
    "refined_df_mt500000_ur15.to_csv('refined_df_mt500000_ur15.csv')\n",
    "refined_df_mt500000_ur25.to_csv('refined_df_mt500000_ur25.csv')\n",
    "refined_df_mt500000_ur50.to_csv('refined_df_mt500000_ur50.csv')\n",
    "refined_df_mt500000_ur100.to_csv('refined_df_mt500000_ur100.csv')"
   ]
  },
  {
   "cell_type": "code",
   "execution_count": null,
   "id": "a7233678",
   "metadata": {},
   "outputs": [],
   "source": []
  }
 ],
 "metadata": {
  "kernelspec": {
   "display_name": "Python 3 (ipykernel)",
   "language": "python",
   "name": "python3"
  },
  "language_info": {
   "codemirror_mode": {
    "name": "ipython",
    "version": 3
   },
   "file_extension": ".py",
   "mimetype": "text/x-python",
   "name": "python",
   "nbconvert_exporter": "python",
   "pygments_lexer": "ipython3",
   "version": "3.9.13"
  }
 },
 "nbformat": 4,
 "nbformat_minor": 5
}
