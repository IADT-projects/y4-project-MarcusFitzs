{
 "cells": [
  {
   "cell_type": "code",
   "execution_count": 1,
   "id": "9c93c62f",
   "metadata": {},
   "outputs": [],
   "source": [
    "# import numpy as np\n",
    "import pandas as pd\n",
    "\n",
    "# from scipy.sparse import csr_matrix\n",
    "# from sklearn.neighbors import NearestNeighbors\n",
    "\n",
    "# from pprint import pprint\n",
    "\n",
    "# from joblib import Parallel, delayed\n",
    "# import joblib"
   ]
  },
  {
   "cell_type": "code",
   "execution_count": 2,
   "id": "afffcf2b",
   "metadata": {},
   "outputs": [],
   "source": [
    "movie_titles_df = pd.read_csv('title_merge_ratings_500000.csv')"
   ]
  },
  {
   "cell_type": "code",
   "execution_count": 3,
   "id": "e0b1a226",
   "metadata": {},
   "outputs": [],
   "source": [
    "movie_titles_df = movie_titles_df.drop(['Unnamed: 0', 'titleType', 'startYear', 'runtimeMinutes', 'averageRating', 'numVotes', \"Action\", \"Adult\", \"Adventure\", \"Animation\", \"Biography\", \"Comedy\", \"Crime\", \"Documentary\", \"Drama\", \"Family\", \"Fantasy\", \"Film-Noir\", \"Game-Show\", \"History\", \"Horror\", \"Music\", \"Musical\", \"Mystery\", \"News\", \"Reality-TV\", \"Romance\", \"Sci-Fi\", \"Short\", \"Sport\", \"Talk-Show\", \"Thriller\", \"War\", 'Western'], axis=1)"
   ]
  },
  {
   "cell_type": "code",
   "execution_count": 4,
   "id": "19fa4e89",
   "metadata": {},
   "outputs": [],
   "source": [
    "# movie_titles_df['genres'] = movie_titles_df['genres'].str.replace(\"]\", '')\n",
    "# movie_titles_df['genres'] = movie_titles_df['genres'].str.replace(\"[\", '')\n",
    "# movie_titles_df['genres'] = movie_titles_df['genres'].str.replace(\"'\", '')\n",
    "# movie_titles_df['genres'] = movie_titles_df['genres'].str.replace(\" \", '')\n",
    "# movie_titles_df['genres'] = movie_titles_df['genres'].str.replace(\",\", '|')\n",
    "# movie_titles_df"
   ]
  },
  {
   "cell_type": "code",
   "execution_count": 5,
   "id": "ca585aa1",
   "metadata": {},
   "outputs": [],
   "source": [
    "# ## Determining how many movies are in each genre\n",
    "\n",
    "# ## Going through the movies_df dataset and adding each unique genre title to a list\n",
    "# ## movies with mutliple genres are seperated by a '|', this for loop splits the string at each '|'\n",
    "\n",
    "# genre_names = set()\n",
    "# for i in movie_titles_df['genres'].str.split('|').values:\n",
    "#     genre_names = genre_names.union(set(i))\n",
    "\n",
    "# ## Function that counts how many times each genre title appears\n",
    "# def genre_count(dataset, ref_col, count):\n",
    "#     keyword_count = dict()\n",
    "#     for i in count: \n",
    "#         keyword_count[i] = 0\n",
    "#     for census_keywords in dataset[ref_col].str.split('|'):   \n",
    "#         for j in [j for j in census_keywords if j in count]: \n",
    "#             keyword_count[j] += 1\n",
    "                \n",
    "                \n",
    "#     ## converting the dict to a list\n",
    "#     keyword_occurences = []\n",
    "    \n",
    "#     ## Adding each count to their respective genre titles and sort the list in decsending order\n",
    "#     for i,j in keyword_count.items():\n",
    "#         keyword_occurences.append([i,j])\n",
    "#     keyword_occurences.sort(key = lambda a:a[1], reverse = True)\n",
    "#     return keyword_occurences, keyword_count\n",
    "\n",
    "# ## Calling this function gives access to a list of genre keywords which are sorted by decreasing frequency\n",
    "# keyword_occurences, dum = genre_count(movie_titles_df, 'genres', genre_names)\n",
    "# keyword_occurences"
   ]
  },
  {
   "cell_type": "code",
   "execution_count": 6,
   "id": "7fa4c0d3",
   "metadata": {},
   "outputs": [],
   "source": [
    "## Using TfidfVectorizer to transform text to feature vectors\n",
    "from sklearn.feature_extraction.text import TfidfVectorizer\n",
    "\n",
    "tfidfvectorizer = TfidfVectorizer(analyzer='word', stop_words='english')\n",
    "\n",
    "tfidf_wm = tfidfvectorizer.fit_transform(movie_titles_df['genres'])"
   ]
  },
  {
   "cell_type": "code",
   "execution_count": 7,
   "id": "80ac52a9",
   "metadata": {},
   "outputs": [
    {
     "data": {
      "text/plain": [
       "array([[1.        , 0.15880748, 0.        , 0.        , 0.        ],\n",
       "       [0.15880748, 1.        , 0.        , 0.        , 0.        ],\n",
       "       [0.        , 0.        , 1.        , 0.        , 0.        ],\n",
       "       [0.        , 0.        , 0.        , 1.        , 0.16455827],\n",
       "       [0.        , 0.        , 0.        , 0.16455827, 1.        ]])"
      ]
     },
     "execution_count": 7,
     "metadata": {},
     "output_type": "execute_result"
    }
   ],
   "source": [
    "## Using Cosine Similarity to calculate similarity between movies based on the genres they have in common\n",
    "from sklearn.metrics.pairwise import cosine_similarity\n",
    "\n",
    "cosine_sim = cosine_similarity(tfidf_wm, tfidf_wm)\n",
    "\n",
    "## Showing the similarity the first x(5) movies in the dataframe have with each other\n",
    "cosine_sim[:5, :5]"
   ]
  },
  {
   "cell_type": "code",
   "execution_count": 41,
   "id": "cd9d3101",
   "metadata": {},
   "outputs": [],
   "source": [
    "## Building a 1-dimensional array from the movie titles\n",
    "titles = movie_titles_df['tconst']\n",
    "indices = pd.Series(movie_titles_df.index, index=movie_titles_df['tconst'])\n",
    "\n",
    "## Function that retrieves the top recommendations based on the cosine similarity to the movie title entered when fucntion called\n",
    "def recommend_from(id):\n",
    "    idx = indices[id]\n",
    "    sim_scores = list(enumerate(cosine_sim[idx]))\n",
    "    sim_scores = sorted(sim_scores, key=lambda x: x[1], reverse=True)\n",
    "    sim_scores = sim_scores[1:21]\n",
    "    movie_indices = [i[0] for i in sim_scores]\n",
    "    return titles.iloc[movie_indices]"
   ]
  },
  {
   "cell_type": "code",
   "execution_count": 42,
   "id": "82f26e70",
   "metadata": {},
   "outputs": [
    {
     "data": {
      "text/plain": [
       "25     tt0093058\n",
       "66     tt0120815\n",
       "259    tt2713180\n",
       "291    tt8579674\n",
       "115    tt0361748\n",
       "39     tt0109830\n",
       "56     tt0119217\n",
       "59     tt0120338\n",
       "110    tt0332280\n",
       "207    tt1343092\n",
       "Name: tconst, dtype: object"
      ]
     },
     "execution_count": 42,
     "metadata": {},
     "output_type": "execute_result"
    }
   ],
   "source": [
    "titleID = 'tt0034583'\n",
    "recommendations = recommend_from(titleID).head(10)\n",
    "recommendations"
   ]
  },
  {
   "cell_type": "code",
   "execution_count": 22,
   "id": "bb19e2ea",
   "metadata": {},
   "outputs": [],
   "source": [
    "dict1 = {'Recommendations': recommendations}"
   ]
  },
  {
   "cell_type": "code",
   "execution_count": 28,
   "id": "8e148029",
   "metadata": {},
   "outputs": [
    {
     "data": {
      "text/plain": [
       "{'Recommendations': 25     tt0093058\n",
       " 66     tt0120815\n",
       " 259    tt2713180\n",
       " 291    tt8579674\n",
       " 115    tt0361748\n",
       " 39     tt0109830\n",
       " 56     tt0119217\n",
       " 59     tt0120338\n",
       " 110    tt0332280\n",
       " 207    tt1343092\n",
       " Name: tconst, dtype: object}"
      ]
     },
     "execution_count": 28,
     "metadata": {},
     "output_type": "execute_result"
    }
   ],
   "source": [
    "dict1"
   ]
  },
  {
   "cell_type": "code",
   "execution_count": 45,
   "id": "f204448b",
   "metadata": {},
   "outputs": [],
   "source": [
    "a = recommendations.to_json()"
   ]
  },
  {
   "cell_type": "code",
   "execution_count": 46,
   "id": "aed3541d",
   "metadata": {},
   "outputs": [
    {
     "data": {
      "text/plain": [
       "'{\"25\":\"tt0093058\",\"66\":\"tt0120815\",\"259\":\"tt2713180\",\"291\":\"tt8579674\",\"115\":\"tt0361748\",\"39\":\"tt0109830\",\"56\":\"tt0119217\",\"59\":\"tt0120338\",\"110\":\"tt0332280\",\"207\":\"tt1343092\"}'"
      ]
     },
     "execution_count": 46,
     "metadata": {},
     "output_type": "execute_result"
    }
   ],
   "source": [
    "a"
   ]
  },
  {
   "cell_type": "code",
   "execution_count": null,
   "id": "71b48de9",
   "metadata": {},
   "outputs": [],
   "source": []
  }
 ],
 "metadata": {
  "kernelspec": {
   "display_name": "Python 3 (ipykernel)",
   "language": "python",
   "name": "python3"
  },
  "language_info": {
   "codemirror_mode": {
    "name": "ipython",
    "version": 3
   },
   "file_extension": ".py",
   "mimetype": "text/x-python",
   "name": "python",
   "nbconvert_exporter": "python",
   "pygments_lexer": "ipython3",
   "version": "3.9.13"
  }
 },
 "nbformat": 4,
 "nbformat_minor": 5
}
