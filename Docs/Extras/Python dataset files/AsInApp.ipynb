{
 "cells": [
  {
   "cell_type": "code",
   "execution_count": 1,
   "id": "9bf899cf",
   "metadata": {},
   "outputs": [],
   "source": [
    "import numpy as np\n",
    "import pandas as pd\n",
    "\n",
    "from scipy.sparse import csr_matrix\n",
    "from sklearn.neighbors import NearestNeighbors\n",
    "\n",
    "from pprint import pprint\n",
    "\n",
    "from joblib import Parallel, delayed\n",
    "import joblib"
   ]
  },
  {
   "cell_type": "code",
   "execution_count": 2,
   "id": "aa4e0c62",
   "metadata": {},
   "outputs": [],
   "source": [
    "#movieUser_df = pd.read_csv('IMDbMovieUserPivotTrimmed.csv')\n",
    "refined_dataset = pd.read_csv('IMDbRefined2 old.csv')\n",
    "\n",
    "knn_model = joblib.load('IMDbModel.h5')\n",
    "#movieUser_df = pd.read_csv('movieUser.csv')"
   ]
  },
  {
   "cell_type": "code",
   "execution_count": 3,
   "id": "6be07d42",
   "metadata": {},
   "outputs": [],
   "source": [
    "refined_dataset = refined_dataset.drop('Unnamed: 0', axis=1)"
   ]
  },
  {
   "cell_type": "code",
   "execution_count": 37,
   "id": "2fbfb6cd",
   "metadata": {
    "scrolled": true
   },
   "outputs": [
    {
     "data": {
      "text/plain": [
       "['tt0120815', '645ad00ea917e05432316a5c', 'Saving Private Ryan', '10.0']"
      ]
     },
     "execution_count": 37,
     "metadata": {},
     "output_type": "execute_result"
    }
   ],
   "source": [
    "newTitleID = \"tt0120815\"    \n",
    "newUserID = \"645ad00ea917e05432316a5c\"\n",
    "newPrimaryTitle = \"Saving Private Ryan\"\n",
    "newRating = \"10.0\"\n",
    "row = [newTitleID, newUserID, newPrimaryTitle, newRating]\n",
    "row"
   ]
  },
  {
   "cell_type": "code",
   "execution_count": 38,
   "id": "b53e6822",
   "metadata": {},
   "outputs": [],
   "source": [
    "refined_dataset.loc[len(refined_dataset)] = row"
   ]
  },
  {
   "cell_type": "code",
   "execution_count": 39,
   "id": "3b72adde",
   "metadata": {},
   "outputs": [],
   "source": [
    "# newTitleID = \"tt0110357\"    \n",
    "# newUserID = \"645b6f50b130d14687d91f12\"\n",
    "# newPrimaryTitle = \"The Lion King\"\n",
    "# newRating = \"10.0\"\n",
    "# row = [newTitleID, newUserID, newPrimaryTitle, newRating]\n",
    "# row"
   ]
  },
  {
   "cell_type": "code",
   "execution_count": 40,
   "id": "5d8a7fc4",
   "metadata": {},
   "outputs": [],
   "source": [
    "# refined_dataset.loc[len(refined_dataset)] = row"
   ]
  },
  {
   "cell_type": "code",
   "execution_count": 41,
   "id": "1943eabd",
   "metadata": {},
   "outputs": [
    {
     "data": {
      "text/html": [
       "<div>\n",
       "<style scoped>\n",
       "    .dataframe tbody tr th:only-of-type {\n",
       "        vertical-align: middle;\n",
       "    }\n",
       "\n",
       "    .dataframe tbody tr th {\n",
       "        vertical-align: top;\n",
       "    }\n",
       "\n",
       "    .dataframe thead th {\n",
       "        text-align: right;\n",
       "    }\n",
       "</style>\n",
       "<table border=\"1\" class=\"dataframe\">\n",
       "  <thead>\n",
       "    <tr style=\"text-align: right;\">\n",
       "      <th></th>\n",
       "      <th>titleID</th>\n",
       "      <th>userID</th>\n",
       "      <th>primaryTitle</th>\n",
       "      <th>rating</th>\n",
       "    </tr>\n",
       "  </thead>\n",
       "  <tbody>\n",
       "    <tr>\n",
       "      <th>0</th>\n",
       "      <td>tt0034583</td>\n",
       "      <td>ur0011104</td>\n",
       "      <td>Casablanca</td>\n",
       "      <td>1.0</td>\n",
       "    </tr>\n",
       "    <tr>\n",
       "      <th>1</th>\n",
       "      <td>tt0034583</td>\n",
       "      <td>ur0011762</td>\n",
       "      <td>Casablanca</td>\n",
       "      <td>10.0</td>\n",
       "    </tr>\n",
       "    <tr>\n",
       "      <th>2</th>\n",
       "      <td>tt0034583</td>\n",
       "      <td>ur0012295</td>\n",
       "      <td>Casablanca</td>\n",
       "      <td>7.0</td>\n",
       "    </tr>\n",
       "    <tr>\n",
       "      <th>3</th>\n",
       "      <td>tt0034583</td>\n",
       "      <td>ur0013691</td>\n",
       "      <td>Casablanca</td>\n",
       "      <td>10.0</td>\n",
       "    </tr>\n",
       "    <tr>\n",
       "      <th>4</th>\n",
       "      <td>tt0034583</td>\n",
       "      <td>ur0016344</td>\n",
       "      <td>Casablanca</td>\n",
       "      <td>10.0</td>\n",
       "    </tr>\n",
       "    <tr>\n",
       "      <th>...</th>\n",
       "      <td>...</td>\n",
       "      <td>...</td>\n",
       "      <td>...</td>\n",
       "      <td>...</td>\n",
       "    </tr>\n",
       "    <tr>\n",
       "      <th>103777</th>\n",
       "      <td>tt8946378</td>\n",
       "      <td>ur99907711</td>\n",
       "      <td>Knives Out</td>\n",
       "      <td>5.0</td>\n",
       "    </tr>\n",
       "    <tr>\n",
       "      <th>103778</th>\n",
       "      <td>tt8946378</td>\n",
       "      <td>641c87d06a97e629837fc079</td>\n",
       "      <td>Knives Out</td>\n",
       "      <td>8.0</td>\n",
       "    </tr>\n",
       "    <tr>\n",
       "      <th>103779</th>\n",
       "      <td>tt0110357</td>\n",
       "      <td>645ad00ea917e05432316a5c</td>\n",
       "      <td>The Lion King</td>\n",
       "      <td>7.0</td>\n",
       "    </tr>\n",
       "    <tr>\n",
       "      <th>103780</th>\n",
       "      <td>tt0120586</td>\n",
       "      <td>645ad00ea917e05432316a5c</td>\n",
       "      <td>American History X</td>\n",
       "      <td>10.0</td>\n",
       "    </tr>\n",
       "    <tr>\n",
       "      <th>103781</th>\n",
       "      <td>tt0120815</td>\n",
       "      <td>645ad00ea917e05432316a5c</td>\n",
       "      <td>Saving Private Ryan</td>\n",
       "      <td>10.0</td>\n",
       "    </tr>\n",
       "  </tbody>\n",
       "</table>\n",
       "<p>103782 rows × 4 columns</p>\n",
       "</div>"
      ],
      "text/plain": [
       "          titleID                    userID         primaryTitle rating\n",
       "0       tt0034583                 ur0011104           Casablanca    1.0\n",
       "1       tt0034583                 ur0011762           Casablanca   10.0\n",
       "2       tt0034583                 ur0012295           Casablanca    7.0\n",
       "3       tt0034583                 ur0013691           Casablanca   10.0\n",
       "4       tt0034583                 ur0016344           Casablanca   10.0\n",
       "...           ...                       ...                  ...    ...\n",
       "103777  tt8946378                ur99907711           Knives Out    5.0\n",
       "103778  tt8946378  641c87d06a97e629837fc079           Knives Out    8.0\n",
       "103779  tt0110357  645ad00ea917e05432316a5c        The Lion King    7.0\n",
       "103780  tt0120586  645ad00ea917e05432316a5c   American History X   10.0\n",
       "103781  tt0120815  645ad00ea917e05432316a5c  Saving Private Ryan   10.0\n",
       "\n",
       "[103782 rows x 4 columns]"
      ]
     },
     "execution_count": 41,
     "metadata": {},
     "output_type": "execute_result"
    }
   ],
   "source": [
    "refined_dataset"
   ]
  },
  {
   "cell_type": "code",
   "execution_count": 42,
   "id": "72ed9531",
   "metadata": {},
   "outputs": [],
   "source": [
    "movieUser_df = refined_dataset.pivot_table(\n",
    "    index='userID',\n",
    "     columns='titleID',\n",
    "      ## Replacing all movies users haven't rated with a rating of 0\n",
    "      values='rating').fillna(0)"
   ]
  },
  {
   "cell_type": "code",
   "execution_count": 43,
   "id": "a9bdcdd9",
   "metadata": {},
   "outputs": [],
   "source": [
    "#movieUser_df = movieUser_df.reset_index(); "
   ]
  },
  {
   "cell_type": "code",
   "execution_count": 44,
   "id": "7f97eb44",
   "metadata": {},
   "outputs": [],
   "source": [
    "#movieUser_df.columns"
   ]
  },
  {
   "cell_type": "code",
   "execution_count": 45,
   "id": "1d497151",
   "metadata": {},
   "outputs": [],
   "source": [
    "#movieUser_df.columns"
   ]
  },
  {
   "cell_type": "code",
   "execution_count": 46,
   "id": "1a6824ea",
   "metadata": {},
   "outputs": [],
   "source": [
    "movie_list = movieUser_df.columns\n",
    "movieUser_scipy_df = csr_matrix(movieUser_df.values)"
   ]
  },
  {
   "cell_type": "code",
   "execution_count": 47,
   "id": "31da8d92",
   "metadata": {},
   "outputs": [
    {
     "data": {
      "text/plain": [
       "NearestNeighbors(algorithm='brute', metric='cosine')"
      ]
     },
     "execution_count": 47,
     "metadata": {},
     "output_type": "execute_result"
    }
   ],
   "source": [
    "knn_model.fit(movieUser_scipy_df)"
   ]
  },
  {
   "cell_type": "code",
   "execution_count": 48,
   "id": "7da876dd",
   "metadata": {},
   "outputs": [],
   "source": [
    "simUsers = []\n",
    "userDistances = []\n",
    "highestMovies = []\n",
    "recommendedMovies = []"
   ]
  },
  {
   "cell_type": "code",
   "execution_count": 49,
   "id": "a60f743d",
   "metadata": {},
   "outputs": [],
   "source": [
    "def similar_users(user, n = 5):\n",
    "    knn_input = np.asarray([movieUser_df.values[user]])\n",
    "    distances, indices = knn_model.kneighbors(knn_input, n_neighbors=n+1)\n",
    "        \n",
    "    for i in range(1,len(distances[0])):\n",
    "        simUsers.append(indices[0][i]+1)\n",
    "        userDistances.append(distances[0][i])\n",
    "    return indices.flatten()[1:] + 1, distances.flatten()[1:]"
   ]
  },
  {
   "cell_type": "code",
   "execution_count": 50,
   "id": "99cc6572",
   "metadata": {},
   "outputs": [],
   "source": [
    "def recommend_movies(n):\n",
    "    n = min(len(mean_ratings_list),n)\n",
    "    recommendedMovies.append(list(movie_list[np.argsort(mean_ratings_list)[::-1][:n]]))\n",
    "    return recommendedMovies"
   ]
  },
  {
   "cell_type": "code",
   "execution_count": 51,
   "id": "873d5ba2",
   "metadata": {},
   "outputs": [],
   "source": [
    "target_user_id = \"645ad00ea917e05432316a5c\"\n",
    "target_user = np.where(movieUser_df.index == target_user_id)[0][0]\n",
    "no_of_highest = 15\n",
    "no_of_similar_users = 5\n",
    "no_of_movies = 12"
   ]
  },
  {
   "cell_type": "code",
   "execution_count": 52,
   "id": "12b6e849",
   "metadata": {
    "scrolled": false
   },
   "outputs": [],
   "source": [
    "highestMovies.append(list(refined_dataset[refined_dataset['userID'] == target_user_id].sort_values('rating', ascending=False)['titleID'])[:no_of_highest])"
   ]
  },
  {
   "cell_type": "code",
   "execution_count": 53,
   "id": "1270e836",
   "metadata": {},
   "outputs": [],
   "source": [
    "similar_user_list, distance_list = similar_users(target_user, no_of_similar_users)\n",
    "weighted_list = distance_list/np.sum(distance_list)\n",
    "similar_user_ratings = movieUser_df.values[similar_user_list]\n",
    "weighted_list = weighted_list[:,np.newaxis] + np.zeros(len(movie_list))\n",
    "ratings_matrix = weighted_list*similar_user_ratings\n",
    "mean_ratings_list = ratings_matrix.sum(axis =0)"
   ]
  },
  {
   "cell_type": "code",
   "execution_count": 54,
   "id": "3f6ec9f6",
   "metadata": {},
   "outputs": [
    {
     "data": {
      "text/plain": [
       "[['tt0361748',\n",
       "  'tt1136608',\n",
       "  'tt0095016',\n",
       "  'tt0114746',\n",
       "  'tt0948470',\n",
       "  'tt0078748',\n",
       "  'tt0383574',\n",
       "  'tt0167260',\n",
       "  'tt0910970',\n",
       "  'tt0119217',\n",
       "  'tt0119654',\n",
       "  'tt0118715']]"
      ]
     },
     "execution_count": 54,
     "metadata": {},
     "output_type": "execute_result"
    }
   ],
   "source": [
    "recommend_movies(no_of_movies)"
   ]
  },
  {
   "cell_type": "code",
   "execution_count": 55,
   "id": "e808a79e",
   "metadata": {},
   "outputs": [],
   "source": [
    "dict1 = {'Users_Top_Movies': highestMovies, 'Similar_Users': simUsers, 'Sim_User_distances': userDistances, 'Recommendatons': recommendedMovies}"
   ]
  },
  {
   "cell_type": "code",
   "execution_count": 56,
   "id": "75b4760a",
   "metadata": {},
   "outputs": [
    {
     "data": {
      "text/plain": [
       "{'Users_Top_Movies': [['tt0110357', 'tt0120586', 'tt0120815']],\n",
       " 'Similar_Users': [500, 351, 5772, 3043, 1211],\n",
       " 'Sim_User_distances': [0.2738890210558872,\n",
       "  0.3019007026627678,\n",
       "  0.3662757494755221,\n",
       "  0.3662757494755221,\n",
       "  0.3662757494755221],\n",
       " 'Recommendatons': [['tt0361748',\n",
       "   'tt1136608',\n",
       "   'tt0095016',\n",
       "   'tt0114746',\n",
       "   'tt0948470',\n",
       "   'tt0078748',\n",
       "   'tt0383574',\n",
       "   'tt0167260',\n",
       "   'tt0910970',\n",
       "   'tt0119217',\n",
       "   'tt0119654',\n",
       "   'tt0118715']]}"
      ]
     },
     "execution_count": 56,
     "metadata": {},
     "output_type": "execute_result"
    }
   ],
   "source": [
    "dict1"
   ]
  },
  {
   "cell_type": "code",
   "execution_count": 24,
   "id": "d401ccfc",
   "metadata": {},
   "outputs": [
    {
     "data": {
      "text/plain": [
       "titleID\n",
       "tt0034583    0.0\n",
       "tt0050083    0.0\n",
       "tt0054215    0.0\n",
       "tt0060196    0.0\n",
       "tt0062622    0.0\n",
       "            ... \n",
       "tt3896198    0.0\n",
       "tt7131622    0.0\n",
       "tt7286456    0.0\n",
       "tt8579674    0.0\n",
       "tt8946378    0.0\n",
       "Name: ur104874236, Length: 200, dtype: float64"
      ]
     },
     "execution_count": 24,
     "metadata": {},
     "output_type": "execute_result"
    }
   ],
   "source": [
    "movieUser_df.iloc[3135]"
   ]
  },
  {
   "cell_type": "code",
   "execution_count": 25,
   "id": "0509588e",
   "metadata": {},
   "outputs": [
    {
     "data": {
      "text/plain": [
       "[['tt8946378',\n",
       "  'tt0120586',\n",
       "  'tt0133093',\n",
       "  'tt0126029',\n",
       "  'tt0121766',\n",
       "  'tt0121765',\n",
       "  'tt0120915',\n",
       "  'tt0120903',\n",
       "  'tt0120815',\n",
       "  'tt0120737',\n",
       "  'tt0120735',\n",
       "  'tt0120689']]"
      ]
     },
     "execution_count": 25,
     "metadata": {},
     "output_type": "execute_result"
    }
   ],
   "source": [
    "recommendedMovies"
   ]
  },
  {
   "cell_type": "code",
   "execution_count": 26,
   "id": "7314fa34",
   "metadata": {},
   "outputs": [
    {
     "data": {
      "text/html": [
       "<div>\n",
       "<style scoped>\n",
       "    .dataframe tbody tr th:only-of-type {\n",
       "        vertical-align: middle;\n",
       "    }\n",
       "\n",
       "    .dataframe tbody tr th {\n",
       "        vertical-align: top;\n",
       "    }\n",
       "\n",
       "    .dataframe thead th {\n",
       "        text-align: right;\n",
       "    }\n",
       "</style>\n",
       "<table border=\"1\" class=\"dataframe\">\n",
       "  <thead>\n",
       "    <tr style=\"text-align: right;\">\n",
       "      <th></th>\n",
       "      <th>titleID</th>\n",
       "      <th>userID</th>\n",
       "      <th>primaryTitle</th>\n",
       "      <th>rating</th>\n",
       "    </tr>\n",
       "  </thead>\n",
       "  <tbody>\n",
       "    <tr>\n",
       "      <th>0</th>\n",
       "      <td>tt0034583</td>\n",
       "      <td>ur0011104</td>\n",
       "      <td>Casablanca</td>\n",
       "      <td>1.0</td>\n",
       "    </tr>\n",
       "    <tr>\n",
       "      <th>1</th>\n",
       "      <td>tt0034583</td>\n",
       "      <td>ur0011762</td>\n",
       "      <td>Casablanca</td>\n",
       "      <td>10.0</td>\n",
       "    </tr>\n",
       "    <tr>\n",
       "      <th>2</th>\n",
       "      <td>tt0034583</td>\n",
       "      <td>ur0012295</td>\n",
       "      <td>Casablanca</td>\n",
       "      <td>7.0</td>\n",
       "    </tr>\n",
       "    <tr>\n",
       "      <th>3</th>\n",
       "      <td>tt0034583</td>\n",
       "      <td>ur0013691</td>\n",
       "      <td>Casablanca</td>\n",
       "      <td>10.0</td>\n",
       "    </tr>\n",
       "    <tr>\n",
       "      <th>4</th>\n",
       "      <td>tt0034583</td>\n",
       "      <td>ur0016344</td>\n",
       "      <td>Casablanca</td>\n",
       "      <td>10.0</td>\n",
       "    </tr>\n",
       "    <tr>\n",
       "      <th>...</th>\n",
       "      <td>...</td>\n",
       "      <td>...</td>\n",
       "      <td>...</td>\n",
       "      <td>...</td>\n",
       "    </tr>\n",
       "    <tr>\n",
       "      <th>103775</th>\n",
       "      <td>tt8946378</td>\n",
       "      <td>ur99708365</td>\n",
       "      <td>Knives Out</td>\n",
       "      <td>7.0</td>\n",
       "    </tr>\n",
       "    <tr>\n",
       "      <th>103776</th>\n",
       "      <td>tt8946378</td>\n",
       "      <td>ur99877336</td>\n",
       "      <td>Knives Out</td>\n",
       "      <td>8.0</td>\n",
       "    </tr>\n",
       "    <tr>\n",
       "      <th>103777</th>\n",
       "      <td>tt8946378</td>\n",
       "      <td>ur99907711</td>\n",
       "      <td>Knives Out</td>\n",
       "      <td>5.0</td>\n",
       "    </tr>\n",
       "    <tr>\n",
       "      <th>103778</th>\n",
       "      <td>tt8946378</td>\n",
       "      <td>641c87d06a97e629837fc079</td>\n",
       "      <td>Knives Out</td>\n",
       "      <td>8.0</td>\n",
       "    </tr>\n",
       "    <tr>\n",
       "      <th>103779</th>\n",
       "      <td>tt0110357</td>\n",
       "      <td>645ad00ea917e05432316a5c</td>\n",
       "      <td>The Lion King</td>\n",
       "      <td>7.0</td>\n",
       "    </tr>\n",
       "  </tbody>\n",
       "</table>\n",
       "<p>103780 rows × 4 columns</p>\n",
       "</div>"
      ],
      "text/plain": [
       "          titleID                    userID   primaryTitle rating\n",
       "0       tt0034583                 ur0011104     Casablanca    1.0\n",
       "1       tt0034583                 ur0011762     Casablanca   10.0\n",
       "2       tt0034583                 ur0012295     Casablanca    7.0\n",
       "3       tt0034583                 ur0013691     Casablanca   10.0\n",
       "4       tt0034583                 ur0016344     Casablanca   10.0\n",
       "...           ...                       ...            ...    ...\n",
       "103775  tt8946378                ur99708365     Knives Out    7.0\n",
       "103776  tt8946378                ur99877336     Knives Out    8.0\n",
       "103777  tt8946378                ur99907711     Knives Out    5.0\n",
       "103778  tt8946378  641c87d06a97e629837fc079     Knives Out    8.0\n",
       "103779  tt0110357  645ad00ea917e05432316a5c  The Lion King    7.0\n",
       "\n",
       "[103780 rows x 4 columns]"
      ]
     },
     "execution_count": 26,
     "metadata": {},
     "output_type": "execute_result"
    }
   ],
   "source": [
    "refined_dataset"
   ]
  },
  {
   "cell_type": "code",
   "execution_count": 27,
   "id": "01190e4b",
   "metadata": {
    "scrolled": true
   },
   "outputs": [
    {
     "data": {
      "text/html": [
       "<div>\n",
       "<style scoped>\n",
       "    .dataframe tbody tr th:only-of-type {\n",
       "        vertical-align: middle;\n",
       "    }\n",
       "\n",
       "    .dataframe tbody tr th {\n",
       "        vertical-align: top;\n",
       "    }\n",
       "\n",
       "    .dataframe thead th {\n",
       "        text-align: right;\n",
       "    }\n",
       "</style>\n",
       "<table border=\"1\" class=\"dataframe\">\n",
       "  <thead>\n",
       "    <tr style=\"text-align: right;\">\n",
       "      <th>titleID</th>\n",
       "      <th>tt0034583</th>\n",
       "      <th>tt0050083</th>\n",
       "      <th>tt0054215</th>\n",
       "      <th>tt0060196</th>\n",
       "      <th>tt0062622</th>\n",
       "      <th>tt0066921</th>\n",
       "      <th>tt0068646</th>\n",
       "      <th>tt0071562</th>\n",
       "      <th>tt0071853</th>\n",
       "      <th>tt0073195</th>\n",
       "      <th>...</th>\n",
       "      <th>tt1205489</th>\n",
       "      <th>tt1211837</th>\n",
       "      <th>tt1219289</th>\n",
       "      <th>tt1228705</th>\n",
       "      <th>tt3748528</th>\n",
       "      <th>tt3896198</th>\n",
       "      <th>tt7131622</th>\n",
       "      <th>tt7286456</th>\n",
       "      <th>tt8579674</th>\n",
       "      <th>tt8946378</th>\n",
       "    </tr>\n",
       "    <tr>\n",
       "      <th>userID</th>\n",
       "      <th></th>\n",
       "      <th></th>\n",
       "      <th></th>\n",
       "      <th></th>\n",
       "      <th></th>\n",
       "      <th></th>\n",
       "      <th></th>\n",
       "      <th></th>\n",
       "      <th></th>\n",
       "      <th></th>\n",
       "      <th></th>\n",
       "      <th></th>\n",
       "      <th></th>\n",
       "      <th></th>\n",
       "      <th></th>\n",
       "      <th></th>\n",
       "      <th></th>\n",
       "      <th></th>\n",
       "      <th></th>\n",
       "      <th></th>\n",
       "      <th></th>\n",
       "    </tr>\n",
       "  </thead>\n",
       "  <tbody>\n",
       "    <tr>\n",
       "      <th>641c87d06a97e629837fc079</th>\n",
       "      <td>0.0</td>\n",
       "      <td>0.0</td>\n",
       "      <td>0.0</td>\n",
       "      <td>0.0</td>\n",
       "      <td>0.0</td>\n",
       "      <td>0.0</td>\n",
       "      <td>0.0</td>\n",
       "      <td>0.0</td>\n",
       "      <td>0.0</td>\n",
       "      <td>0.0</td>\n",
       "      <td>...</td>\n",
       "      <td>0.0</td>\n",
       "      <td>0.0</td>\n",
       "      <td>0.0</td>\n",
       "      <td>0.0</td>\n",
       "      <td>3.0</td>\n",
       "      <td>7.0</td>\n",
       "      <td>0.0</td>\n",
       "      <td>0.0</td>\n",
       "      <td>0.0</td>\n",
       "      <td>8.0</td>\n",
       "    </tr>\n",
       "    <tr>\n",
       "      <th>645ad00ea917e05432316a5c</th>\n",
       "      <td>0.0</td>\n",
       "      <td>0.0</td>\n",
       "      <td>0.0</td>\n",
       "      <td>0.0</td>\n",
       "      <td>0.0</td>\n",
       "      <td>0.0</td>\n",
       "      <td>0.0</td>\n",
       "      <td>0.0</td>\n",
       "      <td>0.0</td>\n",
       "      <td>0.0</td>\n",
       "      <td>...</td>\n",
       "      <td>0.0</td>\n",
       "      <td>0.0</td>\n",
       "      <td>0.0</td>\n",
       "      <td>0.0</td>\n",
       "      <td>0.0</td>\n",
       "      <td>0.0</td>\n",
       "      <td>0.0</td>\n",
       "      <td>0.0</td>\n",
       "      <td>0.0</td>\n",
       "      <td>0.0</td>\n",
       "    </tr>\n",
       "    <tr>\n",
       "      <th>ur0000011</th>\n",
       "      <td>0.0</td>\n",
       "      <td>0.0</td>\n",
       "      <td>0.0</td>\n",
       "      <td>0.0</td>\n",
       "      <td>0.0</td>\n",
       "      <td>0.0</td>\n",
       "      <td>0.0</td>\n",
       "      <td>0.0</td>\n",
       "      <td>0.0</td>\n",
       "      <td>0.0</td>\n",
       "      <td>...</td>\n",
       "      <td>0.0</td>\n",
       "      <td>0.0</td>\n",
       "      <td>0.0</td>\n",
       "      <td>0.0</td>\n",
       "      <td>0.0</td>\n",
       "      <td>0.0</td>\n",
       "      <td>0.0</td>\n",
       "      <td>0.0</td>\n",
       "      <td>0.0</td>\n",
       "      <td>0.0</td>\n",
       "    </tr>\n",
       "    <tr>\n",
       "      <th>ur0000039</th>\n",
       "      <td>0.0</td>\n",
       "      <td>0.0</td>\n",
       "      <td>0.0</td>\n",
       "      <td>0.0</td>\n",
       "      <td>0.0</td>\n",
       "      <td>0.0</td>\n",
       "      <td>0.0</td>\n",
       "      <td>0.0</td>\n",
       "      <td>0.0</td>\n",
       "      <td>0.0</td>\n",
       "      <td>...</td>\n",
       "      <td>0.0</td>\n",
       "      <td>0.0</td>\n",
       "      <td>0.0</td>\n",
       "      <td>0.0</td>\n",
       "      <td>0.0</td>\n",
       "      <td>0.0</td>\n",
       "      <td>0.0</td>\n",
       "      <td>0.0</td>\n",
       "      <td>0.0</td>\n",
       "      <td>7.0</td>\n",
       "    </tr>\n",
       "    <tr>\n",
       "      <th>ur0000066</th>\n",
       "      <td>0.0</td>\n",
       "      <td>0.0</td>\n",
       "      <td>0.0</td>\n",
       "      <td>0.0</td>\n",
       "      <td>0.0</td>\n",
       "      <td>0.0</td>\n",
       "      <td>0.0</td>\n",
       "      <td>0.0</td>\n",
       "      <td>0.0</td>\n",
       "      <td>0.0</td>\n",
       "      <td>...</td>\n",
       "      <td>0.0</td>\n",
       "      <td>0.0</td>\n",
       "      <td>0.0</td>\n",
       "      <td>0.0</td>\n",
       "      <td>0.0</td>\n",
       "      <td>0.0</td>\n",
       "      <td>0.0</td>\n",
       "      <td>0.0</td>\n",
       "      <td>0.0</td>\n",
       "      <td>0.0</td>\n",
       "    </tr>\n",
       "    <tr>\n",
       "      <th>...</th>\n",
       "      <td>...</td>\n",
       "      <td>...</td>\n",
       "      <td>...</td>\n",
       "      <td>...</td>\n",
       "      <td>...</td>\n",
       "      <td>...</td>\n",
       "      <td>...</td>\n",
       "      <td>...</td>\n",
       "      <td>...</td>\n",
       "      <td>...</td>\n",
       "      <td>...</td>\n",
       "      <td>...</td>\n",
       "      <td>...</td>\n",
       "      <td>...</td>\n",
       "      <td>...</td>\n",
       "      <td>...</td>\n",
       "      <td>...</td>\n",
       "      <td>...</td>\n",
       "      <td>...</td>\n",
       "      <td>...</td>\n",
       "      <td>...</td>\n",
       "    </tr>\n",
       "    <tr>\n",
       "      <th>ur99931473</th>\n",
       "      <td>0.0</td>\n",
       "      <td>0.0</td>\n",
       "      <td>0.0</td>\n",
       "      <td>0.0</td>\n",
       "      <td>0.0</td>\n",
       "      <td>0.0</td>\n",
       "      <td>0.0</td>\n",
       "      <td>0.0</td>\n",
       "      <td>0.0</td>\n",
       "      <td>0.0</td>\n",
       "      <td>...</td>\n",
       "      <td>0.0</td>\n",
       "      <td>0.0</td>\n",
       "      <td>0.0</td>\n",
       "      <td>0.0</td>\n",
       "      <td>0.0</td>\n",
       "      <td>0.0</td>\n",
       "      <td>0.0</td>\n",
       "      <td>6.0</td>\n",
       "      <td>0.0</td>\n",
       "      <td>0.0</td>\n",
       "    </tr>\n",
       "    <tr>\n",
       "      <th>ur99955002</th>\n",
       "      <td>0.0</td>\n",
       "      <td>0.0</td>\n",
       "      <td>0.0</td>\n",
       "      <td>0.0</td>\n",
       "      <td>0.0</td>\n",
       "      <td>0.0</td>\n",
       "      <td>0.0</td>\n",
       "      <td>0.0</td>\n",
       "      <td>0.0</td>\n",
       "      <td>0.0</td>\n",
       "      <td>...</td>\n",
       "      <td>0.0</td>\n",
       "      <td>0.0</td>\n",
       "      <td>0.0</td>\n",
       "      <td>0.0</td>\n",
       "      <td>0.0</td>\n",
       "      <td>0.0</td>\n",
       "      <td>0.0</td>\n",
       "      <td>0.0</td>\n",
       "      <td>0.0</td>\n",
       "      <td>0.0</td>\n",
       "    </tr>\n",
       "    <tr>\n",
       "      <th>ur99964320</th>\n",
       "      <td>0.0</td>\n",
       "      <td>0.0</td>\n",
       "      <td>0.0</td>\n",
       "      <td>0.0</td>\n",
       "      <td>0.0</td>\n",
       "      <td>0.0</td>\n",
       "      <td>0.0</td>\n",
       "      <td>0.0</td>\n",
       "      <td>0.0</td>\n",
       "      <td>0.0</td>\n",
       "      <td>...</td>\n",
       "      <td>0.0</td>\n",
       "      <td>0.0</td>\n",
       "      <td>0.0</td>\n",
       "      <td>0.0</td>\n",
       "      <td>0.0</td>\n",
       "      <td>0.0</td>\n",
       "      <td>0.0</td>\n",
       "      <td>0.0</td>\n",
       "      <td>0.0</td>\n",
       "      <td>0.0</td>\n",
       "    </tr>\n",
       "    <tr>\n",
       "      <th>ur99965244</th>\n",
       "      <td>0.0</td>\n",
       "      <td>0.0</td>\n",
       "      <td>0.0</td>\n",
       "      <td>0.0</td>\n",
       "      <td>0.0</td>\n",
       "      <td>0.0</td>\n",
       "      <td>0.0</td>\n",
       "      <td>0.0</td>\n",
       "      <td>0.0</td>\n",
       "      <td>0.0</td>\n",
       "      <td>...</td>\n",
       "      <td>0.0</td>\n",
       "      <td>0.0</td>\n",
       "      <td>0.0</td>\n",
       "      <td>0.0</td>\n",
       "      <td>0.0</td>\n",
       "      <td>0.0</td>\n",
       "      <td>0.0</td>\n",
       "      <td>6.0</td>\n",
       "      <td>0.0</td>\n",
       "      <td>0.0</td>\n",
       "    </tr>\n",
       "    <tr>\n",
       "      <th>ur99999734</th>\n",
       "      <td>0.0</td>\n",
       "      <td>0.0</td>\n",
       "      <td>0.0</td>\n",
       "      <td>0.0</td>\n",
       "      <td>0.0</td>\n",
       "      <td>0.0</td>\n",
       "      <td>0.0</td>\n",
       "      <td>0.0</td>\n",
       "      <td>0.0</td>\n",
       "      <td>0.0</td>\n",
       "      <td>...</td>\n",
       "      <td>0.0</td>\n",
       "      <td>0.0</td>\n",
       "      <td>0.0</td>\n",
       "      <td>0.0</td>\n",
       "      <td>0.0</td>\n",
       "      <td>0.0</td>\n",
       "      <td>10.0</td>\n",
       "      <td>49.5</td>\n",
       "      <td>0.0</td>\n",
       "      <td>0.0</td>\n",
       "    </tr>\n",
       "  </tbody>\n",
       "</table>\n",
       "<p>17823 rows × 200 columns</p>\n",
       "</div>"
      ],
      "text/plain": [
       "titleID                   tt0034583  tt0050083  tt0054215  tt0060196  \\\n",
       "userID                                                                 \n",
       "641c87d06a97e629837fc079        0.0        0.0        0.0        0.0   \n",
       "645ad00ea917e05432316a5c        0.0        0.0        0.0        0.0   \n",
       "ur0000011                       0.0        0.0        0.0        0.0   \n",
       "ur0000039                       0.0        0.0        0.0        0.0   \n",
       "ur0000066                       0.0        0.0        0.0        0.0   \n",
       "...                             ...        ...        ...        ...   \n",
       "ur99931473                      0.0        0.0        0.0        0.0   \n",
       "ur99955002                      0.0        0.0        0.0        0.0   \n",
       "ur99964320                      0.0        0.0        0.0        0.0   \n",
       "ur99965244                      0.0        0.0        0.0        0.0   \n",
       "ur99999734                      0.0        0.0        0.0        0.0   \n",
       "\n",
       "titleID                   tt0062622  tt0066921  tt0068646  tt0071562  \\\n",
       "userID                                                                 \n",
       "641c87d06a97e629837fc079        0.0        0.0        0.0        0.0   \n",
       "645ad00ea917e05432316a5c        0.0        0.0        0.0        0.0   \n",
       "ur0000011                       0.0        0.0        0.0        0.0   \n",
       "ur0000039                       0.0        0.0        0.0        0.0   \n",
       "ur0000066                       0.0        0.0        0.0        0.0   \n",
       "...                             ...        ...        ...        ...   \n",
       "ur99931473                      0.0        0.0        0.0        0.0   \n",
       "ur99955002                      0.0        0.0        0.0        0.0   \n",
       "ur99964320                      0.0        0.0        0.0        0.0   \n",
       "ur99965244                      0.0        0.0        0.0        0.0   \n",
       "ur99999734                      0.0        0.0        0.0        0.0   \n",
       "\n",
       "titleID                   tt0071853  tt0073195  ...  tt1205489  tt1211837  \\\n",
       "userID                                          ...                         \n",
       "641c87d06a97e629837fc079        0.0        0.0  ...        0.0        0.0   \n",
       "645ad00ea917e05432316a5c        0.0        0.0  ...        0.0        0.0   \n",
       "ur0000011                       0.0        0.0  ...        0.0        0.0   \n",
       "ur0000039                       0.0        0.0  ...        0.0        0.0   \n",
       "ur0000066                       0.0        0.0  ...        0.0        0.0   \n",
       "...                             ...        ...  ...        ...        ...   \n",
       "ur99931473                      0.0        0.0  ...        0.0        0.0   \n",
       "ur99955002                      0.0        0.0  ...        0.0        0.0   \n",
       "ur99964320                      0.0        0.0  ...        0.0        0.0   \n",
       "ur99965244                      0.0        0.0  ...        0.0        0.0   \n",
       "ur99999734                      0.0        0.0  ...        0.0        0.0   \n",
       "\n",
       "titleID                   tt1219289  tt1228705  tt3748528  tt3896198  \\\n",
       "userID                                                                 \n",
       "641c87d06a97e629837fc079        0.0        0.0        3.0        7.0   \n",
       "645ad00ea917e05432316a5c        0.0        0.0        0.0        0.0   \n",
       "ur0000011                       0.0        0.0        0.0        0.0   \n",
       "ur0000039                       0.0        0.0        0.0        0.0   \n",
       "ur0000066                       0.0        0.0        0.0        0.0   \n",
       "...                             ...        ...        ...        ...   \n",
       "ur99931473                      0.0        0.0        0.0        0.0   \n",
       "ur99955002                      0.0        0.0        0.0        0.0   \n",
       "ur99964320                      0.0        0.0        0.0        0.0   \n",
       "ur99965244                      0.0        0.0        0.0        0.0   \n",
       "ur99999734                      0.0        0.0        0.0        0.0   \n",
       "\n",
       "titleID                   tt7131622  tt7286456  tt8579674  tt8946378  \n",
       "userID                                                                \n",
       "641c87d06a97e629837fc079        0.0        0.0        0.0        8.0  \n",
       "645ad00ea917e05432316a5c        0.0        0.0        0.0        0.0  \n",
       "ur0000011                       0.0        0.0        0.0        0.0  \n",
       "ur0000039                       0.0        0.0        0.0        7.0  \n",
       "ur0000066                       0.0        0.0        0.0        0.0  \n",
       "...                             ...        ...        ...        ...  \n",
       "ur99931473                      0.0        6.0        0.0        0.0  \n",
       "ur99955002                      0.0        0.0        0.0        0.0  \n",
       "ur99964320                      0.0        0.0        0.0        0.0  \n",
       "ur99965244                      0.0        6.0        0.0        0.0  \n",
       "ur99999734                     10.0       49.5        0.0        0.0  \n",
       "\n",
       "[17823 rows x 200 columns]"
      ]
     },
     "execution_count": 27,
     "metadata": {},
     "output_type": "execute_result"
    }
   ],
   "source": [
    "movieUser_df"
   ]
  },
  {
   "cell_type": "code",
   "execution_count": 28,
   "id": "5460a609",
   "metadata": {
    "scrolled": false
   },
   "outputs": [
    {
     "data": {
      "text/html": [
       "<div>\n",
       "<style scoped>\n",
       "    .dataframe tbody tr th:only-of-type {\n",
       "        vertical-align: middle;\n",
       "    }\n",
       "\n",
       "    .dataframe tbody tr th {\n",
       "        vertical-align: top;\n",
       "    }\n",
       "\n",
       "    .dataframe thead th {\n",
       "        text-align: right;\n",
       "    }\n",
       "</style>\n",
       "<table border=\"1\" class=\"dataframe\">\n",
       "  <thead>\n",
       "    <tr style=\"text-align: right;\">\n",
       "      <th>titleID</th>\n",
       "      <th>tt0034583</th>\n",
       "      <th>tt0050083</th>\n",
       "      <th>tt0054215</th>\n",
       "      <th>tt0060196</th>\n",
       "      <th>tt0062622</th>\n",
       "      <th>tt0066921</th>\n",
       "      <th>tt0068646</th>\n",
       "      <th>tt0071562</th>\n",
       "      <th>tt0071853</th>\n",
       "      <th>tt0073195</th>\n",
       "      <th>...</th>\n",
       "      <th>tt1205489</th>\n",
       "      <th>tt1211837</th>\n",
       "      <th>tt1219289</th>\n",
       "      <th>tt1228705</th>\n",
       "      <th>tt3748528</th>\n",
       "      <th>tt3896198</th>\n",
       "      <th>tt7131622</th>\n",
       "      <th>tt7286456</th>\n",
       "      <th>tt8579674</th>\n",
       "      <th>tt8946378</th>\n",
       "    </tr>\n",
       "    <tr>\n",
       "      <th>userID</th>\n",
       "      <th></th>\n",
       "      <th></th>\n",
       "      <th></th>\n",
       "      <th></th>\n",
       "      <th></th>\n",
       "      <th></th>\n",
       "      <th></th>\n",
       "      <th></th>\n",
       "      <th></th>\n",
       "      <th></th>\n",
       "      <th></th>\n",
       "      <th></th>\n",
       "      <th></th>\n",
       "      <th></th>\n",
       "      <th></th>\n",
       "      <th></th>\n",
       "      <th></th>\n",
       "      <th></th>\n",
       "      <th></th>\n",
       "      <th></th>\n",
       "      <th></th>\n",
       "    </tr>\n",
       "  </thead>\n",
       "  <tbody>\n",
       "    <tr>\n",
       "      <th>641c87d06a97e629837fc079</th>\n",
       "      <td>0.0</td>\n",
       "      <td>0.0</td>\n",
       "      <td>0.0</td>\n",
       "      <td>0.0</td>\n",
       "      <td>0.0</td>\n",
       "      <td>0.0</td>\n",
       "      <td>0.0</td>\n",
       "      <td>0.0</td>\n",
       "      <td>0.0</td>\n",
       "      <td>0.0</td>\n",
       "      <td>...</td>\n",
       "      <td>0.0</td>\n",
       "      <td>0.0</td>\n",
       "      <td>0.0</td>\n",
       "      <td>0.0</td>\n",
       "      <td>3.0</td>\n",
       "      <td>7.0</td>\n",
       "      <td>0.0</td>\n",
       "      <td>0.0</td>\n",
       "      <td>0.0</td>\n",
       "      <td>8.0</td>\n",
       "    </tr>\n",
       "  </tbody>\n",
       "</table>\n",
       "<p>1 rows × 200 columns</p>\n",
       "</div>"
      ],
      "text/plain": [
       "titleID                   tt0034583  tt0050083  tt0054215  tt0060196  \\\n",
       "userID                                                                 \n",
       "641c87d06a97e629837fc079        0.0        0.0        0.0        0.0   \n",
       "\n",
       "titleID                   tt0062622  tt0066921  tt0068646  tt0071562  \\\n",
       "userID                                                                 \n",
       "641c87d06a97e629837fc079        0.0        0.0        0.0        0.0   \n",
       "\n",
       "titleID                   tt0071853  tt0073195  ...  tt1205489  tt1211837  \\\n",
       "userID                                          ...                         \n",
       "641c87d06a97e629837fc079        0.0        0.0  ...        0.0        0.0   \n",
       "\n",
       "titleID                   tt1219289  tt1228705  tt3748528  tt3896198  \\\n",
       "userID                                                                 \n",
       "641c87d06a97e629837fc079        0.0        0.0        3.0        7.0   \n",
       "\n",
       "titleID                   tt7131622  tt7286456  tt8579674  tt8946378  \n",
       "userID                                                                \n",
       "641c87d06a97e629837fc079        0.0        0.0        0.0        8.0  \n",
       "\n",
       "[1 rows x 200 columns]"
      ]
     },
     "execution_count": 28,
     "metadata": {},
     "output_type": "execute_result"
    }
   ],
   "source": [
    "movieUser_df.loc[movieUser_df.index.values == \"641c87d06a97e629837fc079\"]"
   ]
  },
  {
   "cell_type": "code",
   "execution_count": 29,
   "id": "3fec7620",
   "metadata": {
    "scrolled": false
   },
   "outputs": [
    {
     "data": {
      "text/plain": [
       "array([[0., 0., 0., 0., 0., 0., 0., 0., 0., 0., 0., 0., 0., 0., 0., 0.,\n",
       "        0., 0., 0., 0., 0., 0., 0., 0., 0., 0., 0., 0., 0., 0., 0., 0.,\n",
       "        0., 0., 0., 0., 0., 0., 0., 0., 0., 0., 0., 0., 0., 0., 0., 0.,\n",
       "        0., 0., 0., 0., 0., 0., 0., 0., 0., 0., 0., 0., 0., 0., 0., 0.,\n",
       "        0., 0., 0., 0., 0., 0., 0., 0., 0., 0., 0., 0., 0., 0., 0., 0.,\n",
       "        0., 0., 0., 0., 0., 0., 0., 0., 0., 0., 0., 0., 0., 0., 0., 0.,\n",
       "        0., 0., 0., 0., 0., 0., 0., 0., 0., 0., 0., 0., 0., 0., 0., 0.,\n",
       "        0., 0., 0., 0., 0., 0., 0., 0., 0., 0., 0., 0., 0., 0., 0., 0.,\n",
       "        0., 0., 0., 0., 0., 0., 0., 0., 0., 0., 0., 0., 0., 0., 0., 0.,\n",
       "        0., 0., 0., 0., 0., 0., 0., 0., 0., 0., 0., 0., 0., 0., 0., 0.,\n",
       "        0., 0., 0., 0., 0., 0., 0., 0., 0., 0., 0., 0., 0., 0., 0., 0.,\n",
       "        0., 0., 0., 0., 0., 0., 0., 0., 0., 0., 0., 0., 0., 0., 0., 0.,\n",
       "        0., 0., 3., 7., 0., 0., 0., 8.]])"
      ]
     },
     "execution_count": 29,
     "metadata": {},
     "output_type": "execute_result"
    }
   ],
   "source": [
    "movieUser_df.values[movieUser_df.index == \"641c87d06a97e629837fc079\"]"
   ]
  },
  {
   "cell_type": "code",
   "execution_count": 30,
   "id": "ae980c51",
   "metadata": {},
   "outputs": [
    {
     "data": {
      "text/plain": [
       "'645ad00ea917e05432316a5c'"
      ]
     },
     "execution_count": 30,
     "metadata": {},
     "output_type": "execute_result"
    }
   ],
   "source": [
    "target_user_id"
   ]
  },
  {
   "cell_type": "code",
   "execution_count": 31,
   "id": "be7c3c69",
   "metadata": {},
   "outputs": [
    {
     "data": {
      "text/plain": [
       "'641c87d06a97e629837fc079'"
      ]
     },
     "execution_count": 31,
     "metadata": {},
     "output_type": "execute_result"
    }
   ],
   "source": [
    "movieUser_df.index.values[0]"
   ]
  },
  {
   "cell_type": "code",
   "execution_count": 32,
   "id": "eef03898",
   "metadata": {},
   "outputs": [
    {
     "data": {
      "text/plain": [
       "array([ True, False, False, ..., False, False, False])"
      ]
     },
     "execution_count": 32,
     "metadata": {},
     "output_type": "execute_result"
    }
   ],
   "source": [
    "movieUser_df.index == \"641c87d06a97e629837fc079\""
   ]
  },
  {
   "cell_type": "code",
   "execution_count": 33,
   "id": "d21bb44d",
   "metadata": {},
   "outputs": [
    {
     "data": {
      "text/plain": [
       "0"
      ]
     },
     "execution_count": 33,
     "metadata": {},
     "output_type": "execute_result"
    }
   ],
   "source": [
    "np.where(movieUser_df.index == \"641c87d06a97e629837fc079\")[0][0]"
   ]
  },
  {
   "cell_type": "code",
   "execution_count": 34,
   "id": "4a55644a",
   "metadata": {},
   "outputs": [
    {
     "ename": "AttributeError",
     "evalue": "'DataFrame' object has no attribute 'userID'",
     "output_type": "error",
     "traceback": [
      "\u001b[1;31m---------------------------------------------------------------------------\u001b[0m",
      "\u001b[1;31mAttributeError\u001b[0m                            Traceback (most recent call last)",
      "\u001b[1;32m~\\AppData\\Local\\Temp\\ipykernel_13880\\3493328454.py\u001b[0m in \u001b[0;36m<module>\u001b[1;34m\u001b[0m\n\u001b[0;32m      1\u001b[0m \u001b[1;31m#movieUser_df = movieUser_df.reset_index();\u001b[0m\u001b[1;33m\u001b[0m\u001b[1;33m\u001b[0m\u001b[0m\n\u001b[1;32m----> 2\u001b[1;33m \u001b[0mmovieUser_df\u001b[0m\u001b[1;33m[\u001b[0m\u001b[0mmovieUser_df\u001b[0m\u001b[1;33m.\u001b[0m\u001b[0muserID\u001b[0m\u001b[1;33m==\u001b[0m\u001b[1;34m'ur99966337'\u001b[0m\u001b[1;33m]\u001b[0m\u001b[1;33m.\u001b[0m\u001b[0mindex\u001b[0m\u001b[1;33m\u001b[0m\u001b[1;33m\u001b[0m\u001b[0m\n\u001b[0m",
      "\u001b[1;32m~\\anaconda3\\lib\\site-packages\\pandas\\core\\generic.py\u001b[0m in \u001b[0;36m__getattr__\u001b[1;34m(self, name)\u001b[0m\n\u001b[0;32m   5573\u001b[0m         ):\n\u001b[0;32m   5574\u001b[0m             \u001b[1;32mreturn\u001b[0m \u001b[0mself\u001b[0m\u001b[1;33m[\u001b[0m\u001b[0mname\u001b[0m\u001b[1;33m]\u001b[0m\u001b[1;33m\u001b[0m\u001b[1;33m\u001b[0m\u001b[0m\n\u001b[1;32m-> 5575\u001b[1;33m         \u001b[1;32mreturn\u001b[0m \u001b[0mobject\u001b[0m\u001b[1;33m.\u001b[0m\u001b[0m__getattribute__\u001b[0m\u001b[1;33m(\u001b[0m\u001b[0mself\u001b[0m\u001b[1;33m,\u001b[0m \u001b[0mname\u001b[0m\u001b[1;33m)\u001b[0m\u001b[1;33m\u001b[0m\u001b[1;33m\u001b[0m\u001b[0m\n\u001b[0m\u001b[0;32m   5576\u001b[0m \u001b[1;33m\u001b[0m\u001b[0m\n\u001b[0;32m   5577\u001b[0m     \u001b[1;32mdef\u001b[0m \u001b[0m__setattr__\u001b[0m\u001b[1;33m(\u001b[0m\u001b[0mself\u001b[0m\u001b[1;33m,\u001b[0m \u001b[0mname\u001b[0m\u001b[1;33m:\u001b[0m \u001b[0mstr\u001b[0m\u001b[1;33m,\u001b[0m \u001b[0mvalue\u001b[0m\u001b[1;33m)\u001b[0m \u001b[1;33m->\u001b[0m \u001b[1;32mNone\u001b[0m\u001b[1;33m:\u001b[0m\u001b[1;33m\u001b[0m\u001b[1;33m\u001b[0m\u001b[0m\n",
      "\u001b[1;31mAttributeError\u001b[0m: 'DataFrame' object has no attribute 'userID'"
     ]
    }
   ],
   "source": [
    "#movieUser_df = movieUser_df.reset_index(); \n",
    "movieUser_df[movieUser_df.userID=='ur99966337'].index"
   ]
  },
  {
   "cell_type": "code",
   "execution_count": null,
   "id": "b652e229",
   "metadata": {},
   "outputs": [],
   "source": [
    "movieUser_df"
   ]
  },
  {
   "cell_type": "code",
   "execution_count": null,
   "id": "aafb9d56",
   "metadata": {},
   "outputs": [],
   "source": [
    "movieUser_df[movieUser_df.userID=='ur99966337'].index[0]"
   ]
  },
  {
   "cell_type": "code",
   "execution_count": null,
   "id": "fb0a24f3",
   "metadata": {},
   "outputs": [],
   "source": [
    "np.where(movieUser_df.index == target_user_id)[0][0]"
   ]
  },
  {
   "cell_type": "code",
   "execution_count": 57,
   "id": "60953d99",
   "metadata": {},
   "outputs": [
    {
     "data": {
      "text/plain": [
       "array([[ 0.,  0.,  0.,  0.,  0.,  0.,  0.,  0.,  0.,  0.,  0.,  0.,  0.,\n",
       "         0.,  0.,  0.,  0.,  0.,  0.,  0.,  0.,  0.,  0.,  0.,  0.,  0.,\n",
       "         0.,  0.,  0.,  0.,  0.,  0.,  0.,  0.,  0.,  0.,  0.,  0.,  0.,\n",
       "         0.,  7.,  0.,  0.,  0.,  0.,  0.,  0.,  0.,  0.,  0.,  0.,  0.,\n",
       "         0.,  0.,  0.,  0.,  0.,  0.,  0.,  0.,  0.,  0., 10.,  0.,  0.,\n",
       "         0., 10.,  0.,  0.,  0.,  0.,  0.,  0.,  0.,  0.,  0.,  0.,  0.,\n",
       "         0.,  0.,  0.,  0.,  0.,  0.,  0.,  0.,  0.,  0.,  0.,  0.,  0.,\n",
       "         0.,  0.,  0.,  0.,  0.,  0.,  0.,  0.,  0.,  0.,  0.,  0.,  0.,\n",
       "         0.,  0.,  0.,  0.,  0.,  0.,  0.,  0.,  0.,  0.,  0.,  0.,  0.,\n",
       "         0.,  0.,  0.,  0.,  0.,  0.,  0.,  0.,  0.,  0.,  0.,  0.,  0.,\n",
       "         0.,  0.,  0.,  0.,  0.,  0.,  0.,  0.,  0.,  0.,  0.,  0.,  0.,\n",
       "         0.,  0.,  0.,  0.,  0.,  0.,  0.,  0.,  0.,  0.,  0.,  0.,  0.,\n",
       "         0.,  0.,  0.,  0.,  0.,  0.,  0.,  0.,  0.,  0.,  0.,  0.,  0.,\n",
       "         0.,  0.,  0.,  0.,  0.,  0.,  0.,  0.,  0.,  0.,  0.,  0.,  0.,\n",
       "         0.,  0.,  0.,  0.,  0.,  0.,  0.,  0.,  0.,  0.,  0.,  0.,  0.,\n",
       "         0.,  0.,  0.,  0.,  0.]])"
      ]
     },
     "execution_count": 57,
     "metadata": {},
     "output_type": "execute_result"
    }
   ],
   "source": [
    "np.asarray([movieUser_df.values[1]])"
   ]
  },
  {
   "cell_type": "code",
   "execution_count": null,
   "id": "640fcb59",
   "metadata": {},
   "outputs": [],
   "source": []
  }
 ],
 "metadata": {
  "kernelspec": {
   "display_name": "Python 3 (ipykernel)",
   "language": "python",
   "name": "python3"
  },
  "language_info": {
   "codemirror_mode": {
    "name": "ipython",
    "version": 3
   },
   "file_extension": ".py",
   "mimetype": "text/x-python",
   "name": "python",
   "nbconvert_exporter": "python",
   "pygments_lexer": "ipython3",
   "version": "3.9.13"
  }
 },
 "nbformat": 4,
 "nbformat_minor": 5
}
