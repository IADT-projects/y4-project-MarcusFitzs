{
 "cells": [
  {
   "cell_type": "code",
   "execution_count": 1,
   "id": "e45e7e50",
   "metadata": {},
   "outputs": [],
   "source": [
    "import numpy as np\n",
    "import pandas as pd\n",
    "\n",
    "from scipy.sparse import csr_matrix\n",
    "from sklearn.neighbors import NearestNeighbors\n",
    "\n",
    "from pprint import pprint"
   ]
  },
  {
   "cell_type": "code",
   "execution_count": 2,
   "id": "9125fc63",
   "metadata": {},
   "outputs": [],
   "source": [
    "## Reading the CSVs\n",
    "movie_titles_df = pd.read_csv('title_merge_ratings_500000.csv')\n",
    "user_ratings_df = pd.DataFrame(np.load('User_ratings.npy'))\n",
    "\n",
    "## convert loaded np array to pd dataframe\n",
    "user_ratings_df[['userID', 'titleID', 'rating', 'date']] = user_ratings_df[0].str.split(',', expand=True)\n",
    "user_ratings_df = user_ratings_df.drop(0, axis=1)"
   ]
  },
  {
   "cell_type": "code",
   "execution_count": 4,
   "id": "58ce63b2",
   "metadata": {},
   "outputs": [],
   "source": [
    "movie_titles_df = movie_titles_df.drop(['Unnamed: 0', 'titleType', 'startYear', 'runtimeMinutes', 'genres', 'averageRating', 'numVotes', 'Action', 'Adult', 'Adventure', 'Animation', 'Biography', 'Comedy', 'Crime', 'Documentary', 'Drama', 'Family', 'Fantasy', 'Film-Noir', 'Game-Show', 'History', 'Horror', 'Music', 'Musical', 'Mystery', 'News', 'Reality-TV', 'Romance', 'Sci-Fi', 'Short', 'Sport', 'Talk-Show', 'Thriller', 'War', 'Western'], axis=1)"
   ]
  },
  {
   "cell_type": "code",
   "execution_count": 5,
   "id": "d8b9957c",
   "metadata": {},
   "outputs": [],
   "source": [
    "user_ratings_df = user_ratings_df.drop('date', axis=1)"
   ]
  },
  {
   "cell_type": "code",
   "execution_count": 6,
   "id": "1d7bbf8c",
   "metadata": {},
   "outputs": [
    {
     "data": {
      "text/plain": [
       "1499238"
      ]
     },
     "execution_count": 6,
     "metadata": {},
     "output_type": "execute_result"
    }
   ],
   "source": [
    "user_ratings_df['userID'].nunique()"
   ]
  },
  {
   "cell_type": "code",
   "execution_count": 8,
   "id": "ccc2c586",
   "metadata": {},
   "outputs": [],
   "source": [
    "user_ratings_df_trimmed_5 = user_ratings_df.groupby('userID').filter(lambda x : len(x)>4)\n",
    "user_ratings_df_trimmed_10 = user_ratings_df.groupby('userID').filter(lambda x : len(x)>9)\n",
    "user_ratings_df_trimmed_15 = user_ratings_df.groupby('userID').filter(lambda x : len(x)>14)\n",
    "user_ratings_df_trimmed_25 = user_ratings_df.groupby('userID').filter(lambda x : len(x)>24)"
   ]
  },
  {
   "cell_type": "code",
   "execution_count": 27,
   "id": "685de836",
   "metadata": {},
   "outputs": [
    {
     "data": {
      "text/html": [
       "<div>\n",
       "<style scoped>\n",
       "    .dataframe tbody tr th:only-of-type {\n",
       "        vertical-align: middle;\n",
       "    }\n",
       "\n",
       "    .dataframe tbody tr th {\n",
       "        vertical-align: top;\n",
       "    }\n",
       "\n",
       "    .dataframe thead th {\n",
       "        text-align: right;\n",
       "    }\n",
       "</style>\n",
       "<table border=\"1\" class=\"dataframe\">\n",
       "  <thead>\n",
       "    <tr style=\"text-align: right;\">\n",
       "      <th></th>\n",
       "      <th>userID</th>\n",
       "      <th>titleID</th>\n",
       "      <th>rating</th>\n",
       "    </tr>\n",
       "  </thead>\n",
       "  <tbody>\n",
       "    <tr>\n",
       "      <th>1</th>\n",
       "      <td>ur3174947</td>\n",
       "      <td>tt0118688</td>\n",
       "      <td>3</td>\n",
       "    </tr>\n",
       "    <tr>\n",
       "      <th>4</th>\n",
       "      <td>ur3174947</td>\n",
       "      <td>tt0094721</td>\n",
       "      <td>8</td>\n",
       "    </tr>\n",
       "    <tr>\n",
       "      <th>5</th>\n",
       "      <td>ur1162550</td>\n",
       "      <td>tt0114891</td>\n",
       "      <td>9</td>\n",
       "    </tr>\n",
       "    <tr>\n",
       "      <th>8</th>\n",
       "      <td>ur3174947</td>\n",
       "      <td>tt0120601</td>\n",
       "      <td>8</td>\n",
       "    </tr>\n",
       "    <tr>\n",
       "      <th>13</th>\n",
       "      <td>ur1355507</td>\n",
       "      <td>tt0067023</td>\n",
       "      <td>7</td>\n",
       "    </tr>\n",
       "    <tr>\n",
       "      <th>...</th>\n",
       "      <td>...</td>\n",
       "      <td>...</td>\n",
       "      <td>...</td>\n",
       "    </tr>\n",
       "    <tr>\n",
       "      <th>4669813</th>\n",
       "      <td>ur0581842</td>\n",
       "      <td>tt0068424</td>\n",
       "      <td>4</td>\n",
       "    </tr>\n",
       "    <tr>\n",
       "      <th>4669814</th>\n",
       "      <td>ur3174947</td>\n",
       "      <td>tt0096895</td>\n",
       "      <td>8</td>\n",
       "    </tr>\n",
       "    <tr>\n",
       "      <th>4669815</th>\n",
       "      <td>ur0581842</td>\n",
       "      <td>tt0107977</td>\n",
       "      <td>6</td>\n",
       "    </tr>\n",
       "    <tr>\n",
       "      <th>4669816</th>\n",
       "      <td>ur3174947</td>\n",
       "      <td>tt0103776</td>\n",
       "      <td>8</td>\n",
       "    </tr>\n",
       "    <tr>\n",
       "      <th>4669819</th>\n",
       "      <td>ur1162550</td>\n",
       "      <td>tt0325596</td>\n",
       "      <td>7</td>\n",
       "    </tr>\n",
       "  </tbody>\n",
       "</table>\n",
       "<p>1335914 rows × 3 columns</p>\n",
       "</div>"
      ],
      "text/plain": [
       "            userID    titleID rating\n",
       "1        ur3174947  tt0118688      3\n",
       "4        ur3174947  tt0094721      8\n",
       "5        ur1162550  tt0114891      9\n",
       "8        ur3174947  tt0120601      8\n",
       "13       ur1355507  tt0067023      7\n",
       "...            ...        ...    ...\n",
       "4669813  ur0581842  tt0068424      4\n",
       "4669814  ur3174947  tt0096895      8\n",
       "4669815  ur0581842  tt0107977      6\n",
       "4669816  ur3174947  tt0103776      8\n",
       "4669819  ur1162550  tt0325596      7\n",
       "\n",
       "[1335914 rows x 3 columns]"
      ]
     },
     "execution_count": 27,
     "metadata": {},
     "output_type": "execute_result"
    }
   ],
   "source": [
    "user_ratings_df_trimmed_100"
   ]
  },
  {
   "cell_type": "code",
   "execution_count": 28,
   "id": "82df3ad6",
   "metadata": {},
   "outputs": [
    {
     "data": {
      "text/plain": [
       "3188"
      ]
     },
     "execution_count": 28,
     "metadata": {},
     "output_type": "execute_result"
    }
   ],
   "source": [
    "user_ratings_df_trimmed_100['userID'].nunique()"
   ]
  },
  {
   "cell_type": "code",
   "execution_count": 20,
   "id": "02739eee",
   "metadata": {},
   "outputs": [],
   "source": [
    "user_ratings_df_trimmed_25 = user_ratings_df.groupby('userID').filter(lambda x : len(x)>24)\n",
    "user_ratings_df_trimmed_50 = user_ratings_df.groupby('userID').filter(lambda x : len(x)>49)"
   ]
  },
  {
   "cell_type": "code",
   "execution_count": 26,
   "id": "8681c99d",
   "metadata": {},
   "outputs": [],
   "source": [
    "user_ratings_df_trimmed_100 = user_ratings_df.groupby('userID').filter(lambda x : len(x)>99)"
   ]
  },
  {
   "cell_type": "code",
   "execution_count": 29,
   "id": "50ab2a33",
   "metadata": {},
   "outputs": [],
   "source": [
    "user_ratings_df_trimmed_5.to_csv('user_ratings_df_trimmed_5.csv')"
   ]
  },
  {
   "cell_type": "code",
   "execution_count": 30,
   "id": "ce53c97f",
   "metadata": {},
   "outputs": [],
   "source": [
    "user_ratings_df_trimmed_10.to_csv('user_ratings_df_trimmed_10.csv')\n",
    "user_ratings_df_trimmed_15.to_csv('user_ratings_df_trimmed_15.csv')\n",
    "user_ratings_df_trimmed_25.to_csv('user_ratings_df_trimmed_25.csv')\n",
    "user_ratings_df_trimmed_50.to_csv('user_ratings_df_trimmed_50.csv')\n",
    "user_ratings_df_trimmed_100.to_csv('user_ratings_df_trimmed_100.csv')"
   ]
  },
  {
   "cell_type": "code",
   "execution_count": null,
   "id": "d54f4e91",
   "metadata": {},
   "outputs": [],
   "source": []
  }
 ],
 "metadata": {
  "kernelspec": {
   "display_name": "Python 3 (ipykernel)",
   "language": "python",
   "name": "python3"
  },
  "language_info": {
   "codemirror_mode": {
    "name": "ipython",
    "version": 3
   },
   "file_extension": ".py",
   "mimetype": "text/x-python",
   "name": "python",
   "nbconvert_exporter": "python",
   "pygments_lexer": "ipython3",
   "version": "3.9.13"
  }
 },
 "nbformat": 4,
 "nbformat_minor": 5
}
