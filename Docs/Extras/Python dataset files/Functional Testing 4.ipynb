{
 "cells": [
  {
   "cell_type": "code",
   "execution_count": 1,
   "id": "8ea2f1db",
   "metadata": {},
   "outputs": [],
   "source": [
    "import time\n",
    "import numpy as np\n",
    "import pandas as pd\n",
    "\n",
    "from scipy.sparse import csr_matrix\n",
    "from sklearn.neighbors import NearestNeighbors\n",
    "\n",
    "from pprint import pprint\n",
    "\n",
    "from joblib import Parallel, delayed\n",
    "import joblib"
   ]
  },
  {
   "cell_type": "code",
   "execution_count": 2,
   "id": "df9765d5",
   "metadata": {},
   "outputs": [],
   "source": [
    "starttime = time.time()"
   ]
  },
  {
   "cell_type": "code",
   "execution_count": 3,
   "id": "7b10f1b6",
   "metadata": {},
   "outputs": [],
   "source": [
    "refined_df = pd.read_csv('refined_df_mt500000_ur100.csv')"
   ]
  },
  {
   "cell_type": "code",
   "execution_count": 4,
   "id": "42beab59",
   "metadata": {},
   "outputs": [
    {
     "data": {
      "text/plain": [
       "0.09"
      ]
     },
     "execution_count": 4,
     "metadata": {},
     "output_type": "execute_result"
    }
   ],
   "source": [
    "readTime = round((time.time() - starttime), 2)\n",
    "readTime"
   ]
  },
  {
   "cell_type": "code",
   "execution_count": 5,
   "id": "b1a71f35",
   "metadata": {},
   "outputs": [],
   "source": [
    "knn_model = joblib.load('IMDbModel.h5')"
   ]
  },
  {
   "cell_type": "code",
   "execution_count": 6,
   "id": "5ed4ba38",
   "metadata": {},
   "outputs": [],
   "source": [
    "refined_df = refined_df.drop('Unnamed: 0', axis=1)"
   ]
  },
  {
   "cell_type": "code",
   "execution_count": 7,
   "id": "cd0bd489",
   "metadata": {},
   "outputs": [],
   "source": [
    "movieUser_df = refined_df.pivot_table(\n",
    "        index='userID',\n",
    "            columns='titleID',\n",
    "                ## Replacing all movies users haven't rated with a rating of 0\n",
    "                values='rating').fillna(0)"
   ]
  },
  {
   "cell_type": "code",
   "execution_count": 8,
   "id": "6e284a54",
   "metadata": {},
   "outputs": [],
   "source": [
    "movie_list = movieUser_df.columns\n",
    "movieUser_scipy_df = csr_matrix(movieUser_df.values)"
   ]
  },
  {
   "cell_type": "code",
   "execution_count": 9,
   "id": "6db24777",
   "metadata": {},
   "outputs": [
    {
     "data": {
      "text/plain": [
       "NearestNeighbors(algorithm='brute', metric='cosine')"
      ]
     },
     "execution_count": 9,
     "metadata": {},
     "output_type": "execute_result"
    }
   ],
   "source": [
    "knn_model.fit(movieUser_scipy_df)"
   ]
  },
  {
   "cell_type": "code",
   "execution_count": 10,
   "id": "e0ff50ac",
   "metadata": {},
   "outputs": [],
   "source": [
    "simUsers = []\n",
    "userDistances = []\n",
    "highestMovies = []\n",
    "recommendedMovies = []"
   ]
  },
  {
   "cell_type": "code",
   "execution_count": 11,
   "id": "b378c17b",
   "metadata": {},
   "outputs": [],
   "source": [
    "def similar_users(user, n = 5):\n",
    "    knn_input = np.asarray([movieUser_df.values[user-1]])\n",
    "    distances, indices = knn_model.kneighbors(knn_input, n_neighbors=n+1)\n",
    "        \n",
    "    for i in range(1,len(distances[0])):\n",
    "        simUsers.append(indices[0][i]+1)\n",
    "        userDistances.append(distances[0][i])\n",
    "    return indices.flatten()[1:] + 1, distances.flatten()[1:]"
   ]
  },
  {
   "cell_type": "code",
   "execution_count": 12,
   "id": "75318433",
   "metadata": {},
   "outputs": [],
   "source": [
    "def recommend_movies(n):\n",
    "    n = min(len(mean_ratings_list),n)\n",
    "    recommendedMovies.append(list(movie_list[np.argsort(mean_ratings_list)[::-1][:n]]))\n",
    "    return recommendedMovies"
   ]
  },
  {
   "cell_type": "code",
   "execution_count": 13,
   "id": "6806e229",
   "metadata": {},
   "outputs": [],
   "source": [
    "target_user = 155\n",
    "target_user_id = movieUser_df.index.values[target_user -1]\n",
    "no_of_highest = 15\n",
    "no_of_similar_users = 5\n",
    "no_of_movies = 5"
   ]
  },
  {
   "cell_type": "code",
   "execution_count": 14,
   "id": "d4121882",
   "metadata": {},
   "outputs": [],
   "source": [
    "highestMovies.append(list(refined_df[refined_df['userID'] == target_user_id].sort_values('rating', ascending=False)['titleID'])[:no_of_highest])"
   ]
  },
  {
   "cell_type": "code",
   "execution_count": 15,
   "id": "7480ddb0",
   "metadata": {},
   "outputs": [],
   "source": [
    "similar_user_list, distance_list = similar_users(target_user, no_of_similar_users)\n",
    "weighted_list = distance_list/np.sum(distance_list)\n",
    "similar_user_ratings = movieUser_df.values[similar_user_list]\n",
    "weighted_list = weighted_list[:,np.newaxis] + np.zeros(len(movie_list))\n",
    "ratings_matrix = weighted_list*similar_user_ratings\n",
    "mean_ratings_list = ratings_matrix.sum(axis =0)"
   ]
  },
  {
   "cell_type": "code",
   "execution_count": 16,
   "id": "25a59927",
   "metadata": {},
   "outputs": [
    {
     "data": {
      "text/plain": [
       "{'Users_Top_Movies': [['tt2084970',\n",
       "   'tt0169547',\n",
       "   'tt0372784',\n",
       "   'tt2024544',\n",
       "   'tt1049413',\n",
       "   'tt0338013',\n",
       "   'tt0421715',\n",
       "   'tt0440963',\n",
       "   'tt1504320',\n",
       "   'tt0477348',\n",
       "   'tt2582802',\n",
       "   'tt0451279',\n",
       "   'tt0167404',\n",
       "   'tt0137523',\n",
       "   'tt0120689']],\n",
       " 'Similar_Users': [319, 1669, 1271, 2068, 1931],\n",
       " 'Sim_User_distances': [0.49286152525930427,\n",
       "  0.4933719746677129,\n",
       "  0.49641122356793277,\n",
       "  0.5067774389534012,\n",
       "  0.5112792078308082],\n",
       " 'Recommendatons': []}"
      ]
     },
     "execution_count": 16,
     "metadata": {},
     "output_type": "execute_result"
    }
   ],
   "source": [
    "dict1 = {'Users_Top_Movies': highestMovies, 'Similar_Users': simUsers, 'Sim_User_distances': userDistances, 'Recommendatons': recommendedMovies}\n",
    "dict1"
   ]
  },
  {
   "cell_type": "code",
   "execution_count": 17,
   "id": "034656ba",
   "metadata": {},
   "outputs": [
    {
     "data": {
      "text/plain": [
       "0.3966"
      ]
     },
     "execution_count": 17,
     "metadata": {},
     "output_type": "execute_result"
    }
   ],
   "source": [
    "totalTime = round((time.time() - starttime), 4)\n",
    "totalTime"
   ]
  },
  {
   "cell_type": "code",
   "execution_count": null,
   "id": "f34bb9d2",
   "metadata": {},
   "outputs": [],
   "source": []
  }
 ],
 "metadata": {
  "kernelspec": {
   "display_name": "Python 3 (ipykernel)",
   "language": "python",
   "name": "python3"
  },
  "language_info": {
   "codemirror_mode": {
    "name": "ipython",
    "version": 3
   },
   "file_extension": ".py",
   "mimetype": "text/x-python",
   "name": "python",
   "nbconvert_exporter": "python",
   "pygments_lexer": "ipython3",
   "version": "3.9.13"
  }
 },
 "nbformat": 4,
 "nbformat_minor": 5
}
