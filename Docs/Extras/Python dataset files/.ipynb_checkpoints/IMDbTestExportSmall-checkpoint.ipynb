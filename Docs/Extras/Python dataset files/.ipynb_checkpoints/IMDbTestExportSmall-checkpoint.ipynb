{
 "cells": [
  {
   "cell_type": "code",
   "execution_count": 1,
   "id": "0a5716b1",
   "metadata": {},
   "outputs": [],
   "source": [
    "import numpy as np\n",
    "import pandas as pd\n",
    "\n",
    "from scipy.sparse import csr_matrix\n",
    "from sklearn.neighbors import NearestNeighbors\n",
    "\n",
    "from pprint import pprint"
   ]
  },
  {
   "cell_type": "code",
   "execution_count": null,
   "id": "dc72759c",
   "metadata": {},
   "outputs": [],
   "source": [
    "## Reading the CSVs\n",
    "movie_titles_df = pd.read_csv('Title_basics.tsv', dtype={\"isAdult\": \"string\"}, sep='\\t')\n",
    "user_ratings_df = pd.DataFrame(np.load('User_ratings.npy'))\n",
    "\n",
    "## convert loaded np array to pd dataframe\n",
    "user_ratings_df[['userID', 'titleID', 'rating', 'date']] = user_ratings_df[0].str.split(',', expand=True)\n",
    "user_ratings_df = user_ratings_df.drop(0, axis=1)"
   ]
  },
  {
   "cell_type": "code",
   "execution_count": null,
   "id": "420ec97f",
   "metadata": {},
   "outputs": [],
   "source": [
    "movie_titles_df"
   ]
  },
  {
   "cell_type": "code",
   "execution_count": null,
   "id": "e30cf232",
   "metadata": {},
   "outputs": [],
   "source": [
    "movie_titles_df = movie_titles_df.drop(movie_titles_df[movie_titles_df.titleType.isin([\"tvEpisode\", \"videoGame\", \"video\", \"tvSpecial\", \"tvShort\", \"tv\", \"tvSeries\", \"tvMiniSeries\", \"tvPilot\", \"short\"])].index)"
   ]
  },
  {
   "cell_type": "code",
   "execution_count": null,
   "id": "ce543694",
   "metadata": {},
   "outputs": [],
   "source": [
    "movie_titles_df"
   ]
  },
  {
   "cell_type": "code",
   "execution_count": null,
   "id": "51610962",
   "metadata": {},
   "outputs": [],
   "source": [
    "movie_titles_df = movie_titles_df.drop(['titleType', 'originalTitle', 'isAdult', 'startYear', 'endYear', 'runtimeMinutes', 'genres'], axis=1)"
   ]
  },
  {
   "cell_type": "code",
   "execution_count": null,
   "id": "36262062",
   "metadata": {},
   "outputs": [],
   "source": [
    "movie_titles_df"
   ]
  },
  {
   "cell_type": "code",
   "execution_count": null,
   "id": "d6609fe0",
   "metadata": {},
   "outputs": [],
   "source": [
    "user_ratings_df"
   ]
  },
  {
   "cell_type": "code",
   "execution_count": null,
   "id": "9c3b8f05",
   "metadata": {},
   "outputs": [],
   "source": [
    "user_ratings_df = user_ratings_df.drop('date', axis=1)"
   ]
  },
  {
   "cell_type": "code",
   "execution_count": null,
   "id": "7d4062e5",
   "metadata": {},
   "outputs": [],
   "source": [
    "user_ratings_df"
   ]
  },
  {
   "cell_type": "code",
   "execution_count": null,
   "id": "c3d50522",
   "metadata": {},
   "outputs": [],
   "source": [
    "movie_titles_df.rename(columns={'tconst': 'titleID'}, inplace=True)"
   ]
  },
  {
   "cell_type": "code",
   "execution_count": null,
   "id": "dc710004",
   "metadata": {},
   "outputs": [],
   "source": [
    "movie_titles_df"
   ]
  },
  {
   "cell_type": "code",
   "execution_count": null,
   "id": "50c1c814",
   "metadata": {},
   "outputs": [],
   "source": [
    "combined_df = pd.merge(movie_titles_df, user_ratings_df)"
   ]
  },
  {
   "cell_type": "code",
   "execution_count": null,
   "id": "65677dc2",
   "metadata": {},
   "outputs": [],
   "source": [
    "combined_df"
   ]
  },
  {
   "cell_type": "code",
   "execution_count": null,
   "id": "e6964411",
   "metadata": {},
   "outputs": [],
   "source": [
    "combined_df.userID.isnull().values.any()"
   ]
  },
  {
   "cell_type": "code",
   "execution_count": null,
   "id": "47c150a7",
   "metadata": {},
   "outputs": [],
   "source": [
    "combined_df['titleID'].nunique()"
   ]
  },
  {
   "cell_type": "code",
   "execution_count": null,
   "id": "92b5b58f",
   "metadata": {},
   "outputs": [],
   "source": [
    "movie_titles_df['titleID'].nunique()"
   ]
  },
  {
   "cell_type": "code",
   "execution_count": null,
   "id": "191d329e",
   "metadata": {},
   "outputs": [],
   "source": [
    "user_ratings_df['titleID'].nunique()"
   ]
  },
  {
   "cell_type": "code",
   "execution_count": null,
   "id": "0027a0bc",
   "metadata": {},
   "outputs": [],
   "source": [
    "refined_dataset = combined_df.groupby(by=['titleID','userID','primaryTitle'], as_index=False).agg({\"rating\":\"mean\"})"
   ]
  },
  {
   "cell_type": "code",
   "execution_count": null,
   "id": "eba72555",
   "metadata": {
    "scrolled": false
   },
   "outputs": [],
   "source": [
    "refined_dataset"
   ]
  },
  {
   "cell_type": "code",
   "execution_count": null,
   "id": "46c36473",
   "metadata": {},
   "outputs": [],
   "source": [
    "movieUser_df = refined_dataset.pivot(\n",
    "    index='userID',\n",
    "     columns='primaryTitle',\n",
    "      ## Replacing all movies users haven't rated with a rating of 0\n",
    "      values='rating').fillna(0)"
   ]
  },
  {
   "cell_type": "code",
   "execution_count": null,
   "id": "76aaace1",
   "metadata": {},
   "outputs": [],
   "source": []
  },
  {
   "cell_type": "code",
   "execution_count": null,
   "id": "7a2b0422",
   "metadata": {},
   "outputs": [],
   "source": []
  },
  {
   "cell_type": "code",
   "execution_count": null,
   "id": "69dfeb6a",
   "metadata": {},
   "outputs": [],
   "source": []
  }
 ],
 "metadata": {
  "kernelspec": {
   "display_name": "Python 3 (ipykernel)",
   "language": "python",
   "name": "python3"
  },
  "language_info": {
   "codemirror_mode": {
    "name": "ipython",
    "version": 3
   },
   "file_extension": ".py",
   "mimetype": "text/x-python",
   "name": "python",
   "nbconvert_exporter": "python",
   "pygments_lexer": "ipython3",
   "version": "3.9.13"
  }
 },
 "nbformat": 4,
 "nbformat_minor": 5
}
